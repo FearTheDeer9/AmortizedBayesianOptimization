{
 "cells": [
  {
   "cell_type": "markdown",
   "metadata": {},
   "source": [
    "# Graph Classes and Operations\n",
    "\n",
    "This notebook demonstrates how to use the graph classes and operations in the causal meta-learning library."
   ]
  },
  {
   "cell_type": "code",
   "execution_count": null,
   "metadata": {},
   "outputs": [],
   "source": [
    "# Import necessary modules\n",
    "import sys\n",
    "import os\n",
    "\n",
    "# Add the root directory to the path to make imports work\n",
    "root_dir = os.path.abspath(os.path.join(os.getcwd(), '..'))\n",
    "if root_dir not in sys.path:\n",
    "    sys.path.append(root_dir)\n",
    "\n",
    "# Import common libraries\n",
    "import numpy as np\n",
    "import matplotlib.pyplot as plt\n",
    "\n",
    "# Import the causal meta-learning library\n",
    "from causal_meta.graph import Graph, DirectedGraph, CausalGraph\n",
    "import causal_meta.graph.visualization as viz"
   ]
  },
  {
   "cell_type": "markdown",
   "metadata": {},
   "source": [
    "## 1. Base Graph Class\n",
    "\n",
    "The `Graph` class is the foundation for all graph implementations in the library."
   ]
  },
  {
   "cell_type": "code",
   "execution_count": null,
   "metadata": {},
   "outputs": [],
   "source": [
    "# Create a simple graph\n",
    "graph = Graph()\n",
    "\n",
    "# Add nodes\n",
    "graph.add_node('A', label='Node A', color='red')\n",
    "graph.add_node('B', label='Node B', color='blue')\n",
    "graph.add_node('C', label='Node C', color='green')\n",
    "\n",
    "# Add edges\n",
    "graph.add_edge('A', 'B', weight=0.5)\n",
    "graph.add_edge('B', 'C', weight=1.0)\n",
    "\n",
    "# Print graph info\n",
    "print(f\"Nodes: {graph.get_nodes()}\")\n",
    "print(f\"Edges: {graph.get_edges()}\")"
   ]
  },
  {
   "cell_type": "markdown",
   "metadata": {},
   "source": [
    "## 2. Directed Graph Class\n",
    "\n",
    "The `DirectedGraph` class extends the base `Graph` class to provide functionality for directed edges. It includes methods for working with predecessors, successors, paths, cycles, and topological sorting."
   ]
  },
  {
   "cell_type": "code",
   "execution_count": null,
   "metadata": {},
   "outputs": [],
   "source": [
    "# Create a directed graph\n",
    "digraph = DirectedGraph()\n",
    "\n",
    "# Add nodes\n",
    "for node in ['A', 'B', 'C', 'D', 'E']:\n",
    "    digraph.add_node(node)\n",
    "\n",
    "# Add directed edges\n",
    "digraph.add_edge('A', 'B')\n",
    "digraph.add_edge('A', 'C')\n",
    "digraph.add_edge('B', 'D')\n",
    "digraph.add_edge('C', 'D')\n",
    "digraph.add_edge('D', 'E')\n",
    "\n",
    "# Visualize the directed graph\n",
    "plt.figure(figsize=(10, 6))\n",
    "ax = plt.gca()\n",
    "viz.plot_graph(digraph, ax=ax, title=\"Directed Graph Example\")\n",
    "plt.show()"
   ]
  },
  {
   "cell_type": "markdown",
   "metadata": {},
   "source": [
    "### Working with Directed Graph Operations"
   ]
  },
  {
   "cell_type": "code",
   "execution_count": null,
   "metadata": {},
   "outputs": [],
   "source": [
    "# Examine predecessors and successors\n",
    "print(f\"Predecessors of 'D': {digraph.get_predecessors('D')}\")\n",
    "print(f\"Successors of 'A': {digraph.get_successors('A')}\")\n",
    "\n",
    "# Check for paths\n",
    "print(f\"\\nPath from 'A' to 'E': {digraph.has_path('A', 'E')}\")\n",
    "print(f\"Path from 'E' to 'A': {digraph.has_path('E', 'A')}\")\n",
    "\n",
    "# Find all paths between nodes\n",
    "paths = digraph.find_all_paths('A', 'D')\n",
    "print(f\"\\nAll paths from 'A' to 'D':\")\n",
    "for i, path in enumerate(paths, 1):\n",
    "    print(f\"  Path {i}: {path}\")\n",
    "\n",
    "# Check for cycles\n",
    "print(f\"\\nDoes the graph have cycles? {digraph.has_cycle()}\")\n",
    "\n",
    "# Create a graph with a cycle\n",
    "cycle_graph = DirectedGraph()\n",
    "for node in ['A', 'B', 'C']:\n",
    "    cycle_graph.add_node(node)\n",
    "cycle_graph.add_edge('A', 'B')\n",
    "cycle_graph.add_edge('B', 'C')\n",
    "cycle_graph.add_edge('C', 'A')\n",
    "print(f\"Does the cycle graph have cycles? {cycle_graph.has_cycle()}\")\n",
    "\n",
    "# Topological sort (works only on DAGs)\n",
    "try:\n",
    "    print(f\"\\nTopological sort of the digraph: {digraph.topological_sort()}\")\n",
    "    print(f\"Topological sort of the cycle graph: {cycle_graph.topological_sort()}\")\n",
    "except ValueError as e:\n",
    "    print(f\"Topological sort error: {e}\")"
   ]
  },
  {
   "cell_type": "markdown",
   "metadata": {},
   "source": [
    "### Adjacency Matrix Representation"
   ]
  },
  {
   "cell_type": "code",
   "execution_count": null,
   "metadata": {},
   "outputs": [],
   "source": [
    "# Get the adjacency matrix representation\n",
    "adjacency_matrix, node_indices = digraph.get_adjacency_matrix()\n",
    "\n",
    "print(\"Node indices:\")\n",
    "print(node_indices)\n",
    "print(\"\\nAdjacency Matrix:\")\n",
    "print(adjacency_matrix)\n",
    "\n",
    "# Visualize the adjacency matrix\n",
    "plt.figure(figsize=(8, 6))\n",
    "plt.imshow(adjacency_matrix, cmap='Blues')\n",
    "plt.colorbar(label='Edge presence')\n",
    "plt.title('Adjacency Matrix of Directed Graph')\n",
    "plt.xticks(range(len(node_indices)), list(node_indices.keys()), rotation=45)\n",
    "plt.yticks(range(len(node_indices)), list(node_indices.keys()))\n",
    "plt.grid(False)\n",
    "plt.show()"
   ]
  },
  {
   "cell_type": "markdown",
   "metadata": {},
   "source": [
    "## 3. Causal Graph Class\n",
    "\n",
    "The `CausalGraph` class extends the `DirectedGraph` class with causal semantics, including methods for identifying parents, children, Markov blankets, d-separation, and interventions."
   ]
  },
  {
   "cell_type": "code",
   "execution_count": null,
   "metadata": {},
   "outputs": [],
   "source": [
    "# Create a causal graph with a fork structure: X <- Z -> Y\n",
    "fork_graph = CausalGraph()\n",
    "for node in ['X', 'Y', 'Z']:\n",
    "    fork_graph.add_node(node)\n",
    "fork_graph.add_edge('Z', 'X')\n",
    "fork_graph.add_edge('Z', 'Y')\n",
    "\n",
    "# Visualize the fork graph\n",
    "plt.figure(figsize=(8, 6))\n",
    "ax = plt.gca()\n",
    "viz.plot_causal_graph(fork_graph, ax=ax, title=\"Fork Causal Structure (X \u2190 Z \u2192 Y)\")\n",
    "plt.show()\n",
    "\n",
    "# Create a causal graph with a collider structure: X -> Z <- Y\n",
    "collider_graph = CausalGraph()\n",
    "for node in ['X', 'Y', 'Z']:\n",
    "    collider_graph.add_node(node)\n",
    "collider_graph.add_edge('X', 'Z')\n",
    "collider_graph.add_edge('Y', 'Z')\n",
    "\n",
    "# Visualize the collider graph\n",
    "plt.figure(figsize=(8, 6))\n",
    "ax = plt.gca()\n",
    "viz.plot_causal_graph(collider_graph, ax=ax, title=\"Collider Causal Structure (X \u2192 Z \u2190 Y)\")\n",
    "plt.show()"
   ]
  },
  {
   "cell_type": "markdown",
   "metadata": {},
   "source": [
    "### Working with Causal Relations"
   ]
  },
  {
   "cell_type": "code",
   "execution_count": null,
   "metadata": {},
   "outputs": [],
   "source": [
    "# Examining causal relationships in the fork structure\n",
    "print(\"=== Fork Structure (X \u2190 Z \u2192 Y) ===\")\n",
    "print(f\"Parents of X: {fork_graph.get_parents('X')}\")\n",
    "print(f\"Children of Z: {fork_graph.get_children('Z')}\")\n",
    "print(f\"Markov blanket of Z: {fork_graph.get_markov_blanket('Z')}\")\n",
    "print(f\"Is Z a confounder for X and Y? {fork_graph.is_confounder('X', 'Y')}\")\n",
    "\n",
    "# D-separation in the fork structure\n",
    "print(f\"\\nAre X and Y d-separated? {fork_graph.is_d_separated('X', 'Y')}\")\n",
    "print(f\"Are X and Y d-separated given Z? {fork_graph.is_d_separated('X', 'Y', {'Z'})}\")\n",
    "\n",
    "# Examining causal relationships in the collider structure\n",
    "print(\"\\n=== Collider Structure (X \u2192 Z \u2190 Y) ===\")\n",
    "print(f\"Parents of Z: {collider_graph.get_parents('Z')}\")\n",
    "print(f\"Is Z a collider? {collider_graph.is_collider('Z')}\")\n",
    "\n",
    "# D-separation in the collider structure\n",
    "print(f\"\\nAre X and Y d-separated? {collider_graph.is_d_separated('X', 'Y')}\")\n",
    "print(f\"Are X and Y d-separated given Z? {collider_graph.is_d_separated('X', 'Y', {'Z'})}\")"
   ]
  },
  {
   "cell_type": "markdown",
   "metadata": {},
   "source": [
    "### Intervening on Causal Graphs"
   ]
  },
  {
   "cell_type": "code",
   "execution_count": null,
   "metadata": {},
   "outputs": [],
   "source": [
    "# Create a more complex causal graph\n",
    "complex_graph = CausalGraph()\n",
    "for node in ['A', 'B', 'C', 'D', 'E']:\n",
    "    complex_graph.add_node(node)\n",
    "complex_graph.add_edge('A', 'B')\n",
    "complex_graph.add_edge('A', 'C')\n",
    "complex_graph.add_edge('B', 'D')\n",
    "complex_graph.add_edge('C', 'D')\n",
    "complex_graph.add_edge('C', 'E')\n",
    "\n",
    "# Visualize the original graph\n",
    "plt.figure(figsize=(10, 6))\n",
    "ax = plt.gca()\n",
    "viz.plot_causal_graph(complex_graph, ax=ax, title=\"Original Causal Graph\")\n",
    "plt.show()\n",
    "\n",
    "# Perform a do-intervention on node 'A'\n",
    "intervened_graph = complex_graph.do_intervention('A')\n",
    "\n",
    "# Visualize the intervened graph\n",
    "plt.figure(figsize=(10, 6))\n",
    "ax = plt.gca()\n",
    "viz.plot_causal_graph(intervened_graph, ax=ax, title=\"Causal Graph after do(A)\")\n",
    "plt.show()\n",
    "\n",
    "# Check how the intervention affected the graph structure\n",
    "print(f\"Original graph has edge A\u2192B: {complex_graph.has_edge('A', 'B')}\")\n",
    "print(f\"Intervened graph has edge A\u2192B: {intervened_graph.has_edge('A', 'B')}\")\n",
    "print(f\"\\nParents of 'A' in original graph: {complex_graph.get_parents('A')}\")\n",
    "print(f\"Parents of 'A' in intervened graph: {intervened_graph.get_parents('A')}\")"
   ]
  },
  {
   "cell_type": "markdown",
   "metadata": {},
   "source": [
    "### Backdoor Paths and Adjustment Sets"
   ]
  },
  {
   "cell_type": "code",
   "execution_count": null,
   "metadata": {},
   "outputs": [],
   "source": [
    "# Create a causal graph with backdoor paths\n",
    "backdoor_graph = CausalGraph()\n",
    "for node in ['X', 'Y', 'Z1', 'Z2', 'Z3']:\n",
    "    backdoor_graph.add_node(node)\n",
    "backdoor_graph.add_edge('X', 'Y')  # Direct causal effect\n",
    "backdoor_graph.add_edge('Z1', 'X')  # Backdoor path through Z1\n",
    "backdoor_graph.add_edge('Z1', 'Y')\n",
    "backdoor_graph.add_edge('Z2', 'Z1')  # Longer backdoor path\n",
    "backdoor_graph.add_edge('Z2', 'Z3')\n",
    "backdoor_graph.add_edge('Z3', 'Y')\n",
    "\n",
    "# Visualize the backdoor graph\n",
    "plt.figure(figsize=(10, 6))\n",
    "ax = plt.gca()\n",
    "viz.plot_causal_graph(backdoor_graph, ax=ax, title=\"Causal Graph with Backdoor Paths\")\n",
    "plt.show()\n",
    "\n",
    "# Find backdoor paths\n",
    "backdoor_paths = backdoor_graph.get_backdoor_paths('X', 'Y')\n",
    "print(\"Backdoor paths from X to Y:\")\n",
    "for i, path in enumerate(backdoor_paths, 1):\n",
    "    print(f\"  Path {i}: {path}\")\n",
    "\n",
    "# Check if certain sets are valid adjustment sets\n",
    "print(\"\\nAdjustment set validity:\")\n",
    "print(f\"Is {{Z1}} a valid adjustment set? {backdoor_graph.is_valid_adjustment_set('X', 'Y', {'Z1'})}\")\n",
    "print(f\"Is {{Z2}} a valid adjustment set? {backdoor_graph.is_valid_adjustment_set('X', 'Y', {'Z2'})}\")\n",
    "print(f\"Is {{Z1, Z3}} a valid adjustment set? {backdoor_graph.is_valid_adjustment_set('X', 'Y', {'Z1', 'Z3'})}\")"
   ]
  },
  {
   "cell_type": "markdown",
   "metadata": {},
   "source": [
    "## 4. Advanced Graph Operations\n",
    "\n",
    "Now let's explore some more advanced operations on graphs, including graph traversal, component analysis, and structural properties."
   ]
  },
  {
   "cell_type": "code",
   "execution_count": null,
   "metadata": {},
   "outputs": [],
   "source": [
    "# Create a disconnected directed graph\n",
    "disconnected_graph = DirectedGraph()\n",
    "for node in ['A', 'B', 'C', 'D', 'E', 'F', 'G', 'H']:\n",
    "    disconnected_graph.add_node(node)\n",
    "\n",
    "# Add edges to create two separate components\n",
    "disconnected_graph.add_edge('A', 'B')\n",
    "disconnected_graph.add_edge('B', 'C')\n",
    "disconnected_graph.add_edge('C', 'A')\n",
    "\n",
    "disconnected_graph.add_edge('E', 'F')\n",
    "disconnected_graph.add_edge('F', 'G')\n",
    "disconnected_graph.add_edge('G', 'H')\n",
    "disconnected_graph.add_edge('H', 'E')\n",
    "\n",
    "# Visualize the disconnected graph\n",
    "plt.figure(figsize=(12, 8))\n",
    "ax = plt.gca()\n",
    "viz.plot_graph(disconnected_graph, ax=ax, title=\"Disconnected Directed Graph\")\n",
    "plt.show()\n",
    "\n",
    "# Check if the graph is connected (it shouldn't be)\n",
    "print(f\"Is the graph connected? {disconnected_graph.is_connected()}\")\n",
    "\n",
    "# Find connected components\n",
    "components = disconnected_graph.get_connected_components()\n",
    "print(\"\\nConnected components:\")\n",
    "for i, component in enumerate(components, 1):\n",
    "    print(f\"  Component {i}: {component}\")\n",
    "\n",
    "# Check for strongly connected components (cycles)\n",
    "strongly_connected = disconnected_graph.get_strongly_connected_components()\n",
    "print(\"\\nStrongly connected components (cycles):\")\n",
    "for i, component in enumerate(strongly_connected, 1):\n",
    "    print(f\"  Component {i}: {component}\")"
   ]
  },
  {
   "cell_type": "markdown",
   "metadata": {},
   "source": [
    "## 5. Path Finding and Analysis\n",
    "\n",
    "Let's explore path finding in more complex graphs and analyze different types of paths."
   ]
  },
  {
   "cell_type": "code",
   "execution_count": null,
   "metadata": {},
   "outputs": [],
   "source": [
    "# Create a more complex causal graph for path analysis\n",
    "path_graph = CausalGraph()\n",
    "nodes = ['A', 'B', 'C', 'D', 'E', 'F', 'G']\n",
    "for node in nodes:\n",
    "    path_graph.add_node(node)\n",
    "\n",
    "# Add edges to create different path options\n",
    "path_graph.add_edge('A', 'B')\n",
    "path_graph.add_edge('A', 'C')\n",
    "path_graph.add_edge('B', 'D')\n",
    "path_graph.add_edge('C', 'D')\n",
    "path_graph.add_edge('C', 'E')\n",
    "path_graph.add_edge('D', 'F')\n",
    "path_graph.add_edge('E', 'F')\n",
    "path_graph.add_edge('F', 'G')\n",
    "path_graph.add_edge('B', 'G')  # Direct but longer hop count\n",
    "\n",
    "# Visualize the path graph\n",
    "plt.figure(figsize=(12, 8))\n",
    "ax = plt.gca()\n",
    "viz.plot_causal_graph(path_graph, ax=ax, title=\"Complex Path Graph\")\n",
    "plt.show()\n",
    "\n",
    "# Find all paths between distant nodes\n",
    "all_paths = path_graph.find_all_paths('A', 'G')\n",
    "print(f\"Found {len(all_paths)} different paths from A to G:\")\n",
    "for i, path in enumerate(all_paths, 1):\n",
    "    print(f\"  Path {i}: {path} (length: {len(path)-1})\")\n",
    "\n",
    "# Find shortest path\n",
    "shortest_path = path_graph.find_shortest_path('A', 'G')\n",
    "print(f\"\\nShortest path from A to G: {shortest_path}\")\n",
    "\n",
    "# Highlight a specific path in the visualization\n",
    "highlighted_path = ['A', 'B', 'G']\n",
    "path_edges = [(highlighted_path[i], highlighted_path[i+1]) for i in range(len(highlighted_path)-1)]\n",
    "\n",
    "plt.figure(figsize=(12, 8))\n",
    "ax = plt.gca()\n",
    "viz.plot_causal_graph(path_graph, ax=ax, title=\"Graph with Highlighted Path\", \n",
    "                     highlight_edges=path_edges, highlight_nodes=highlighted_path,\n",
    "                     highlight_edge_color='red', highlight_node_color='yellow')\n",
    "plt.show()"
   ]
  },
  {
   "cell_type": "markdown",
   "metadata": {},
   "source": [
    "## Summary\n",
    "\n",
    "In this notebook, we explored the graph classes provided by the causal meta-learning library:\n",
    "\n",
    "1. The base `Graph` class provides fundamental operations for working with nodes, edges, and their attributes.\n",
    "2. The `DirectedGraph` class extends this with directed edge semantics, path finding, cycle detection, and topological sorting.\n",
    "3. The `CausalGraph` class adds causal reasoning capabilities including d-separation, Markov blanket identification, and intervention operations.\n",
    "\n",
    "These graph implementations provide a solid foundation for causal modeling, inference, and optimization tasks in the library. In the next notebooks, we'll explore graph visualization, generation, and causal environments in more detail."
   ]
  }
 ],
 "metadata": {
  "kernelspec": {
   "display_name": "Python 3",
   "language": "python",
   "name": "python3"
  },
  "language_info": {
   "codemirror_mode": {
    "name": "ipython",
    "version": 3
   },
   "file_extension": ".py",
   "mimetype": "text/x-python",
   "name": "python",
   "nbconvert_exporter": "python",
   "pygments_lexer": "ipython3",
   "version": "3.8.10"
  }
 },
 "nbformat": 4,
 "nbformat_minor": 4
}