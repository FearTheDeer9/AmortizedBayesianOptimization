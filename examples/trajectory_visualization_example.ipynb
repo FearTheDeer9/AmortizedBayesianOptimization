{
 "cells": [
  {
   "cell_type": "markdown",
   "metadata": {},
   "source": [
    "# ACBO Trajectory Visualization Example\n",
    "\n",
    "This notebook demonstrates how to visualize learning trajectories from ACBO experiments."
   ]
  },
  {
   "cell_type": "code",
   "execution_count": null,
   "metadata": {},
   "outputs": [],
   "source": [
    "# Setup\n",
    "import sys\n",
    "from pathlib import Path\n",
    "\n",
    "# Add project root to path\n",
    "project_root = Path().absolute().parent\n",
    "sys.path.insert(0, str(project_root))\n",
    "\n",
    "# Import required modules\n",
    "from examples.demo_scms import create_easy_scm\n",
    "from examples.demo_learning import DemoConfig\n",
    "from examples.demo_evaluation import extract_trajectory_metrics_from_demo\n",
    "from examples.complete_workflow_demo import run_progressive_learning_demo_with_scm\n",
    "from src.causal_bayes_opt.visualization.plots import (\n",
    "    plot_convergence, plot_target_optimization, \n",
    "    plot_structure_learning_dashboard, plot_baseline_comparison\n",
    ")\n",
    "\n",
    "import matplotlib.pyplot as plt\n",
    "%matplotlib inline"
   ]
  },
  {
   "cell_type": "markdown",
   "metadata": {},
   "source": [
    "## 1. Run a Single Experiment"
   ]
  },
  {
   "cell_type": "code",
   "execution_count": null,
   "metadata": {},
   "outputs": [],
   "source": [
    "# Configure experiment\n",
    "config = DemoConfig(\n",
    "    n_observational_samples=20,\n",
    "    n_intervention_steps=15,\n",
    "    learning_rate=1e-3,\n",
    "    random_seed=42\n",
    ")\n",
    "\n",
    "# Create SCM and run experiment\n",
    "scm = create_easy_scm()\n",
    "results = run_progressive_learning_demo_with_scm(scm, config)\n",
    "\n",
    "# Extract trajectory metrics\n",
    "trajectory_metrics = extract_trajectory_metrics_from_demo(results)\n",
    "\n",
    "print(f\"Experiment completed!\")\n",
    "print(f\"Target: {trajectory_metrics['target_variable']}\")\n",
    "print(f\"True parents: {trajectory_metrics['true_parents']}\")\n",
    "print(f\"Converged: {trajectory_metrics['converged']}\")\n",
    "print(f\"Final F1: {trajectory_metrics['f1_scores'][-1]:.3f}\")"
   ]
  },
  {
   "cell_type": "markdown",
   "metadata": {},
   "source": [
    "## 2. Convergence Visualization"
   ]
  },
  {
   "cell_type": "code",
   "execution_count": null,
   "metadata": {},
   "outputs": [],
   "source": [
    "# Plot convergence to true parent set\n",
    "fig = plot_convergence(\n",
    "    trajectory_metrics,\n",
    "    title=\"Convergence to True Parent Set\",\n",
    "    show_f1=True,\n",
    "    show_uncertainty=True\n",
    ")\n",
    "plt.show()"
   ]
  },
  {
   "cell_type": "markdown",
   "metadata": {},
   "source": [
    "## 3. Target Optimization"
   ]
  },
  {
   "cell_type": "code",
   "execution_count": null,
   "metadata": {},
   "outputs": [],
   "source": [
    "# Plot target value optimization\n",
    "fig = plot_target_optimization(\n",
    "    trajectory_metrics,\n",
    "    title=\"Target Variable Optimization\"\n",
    ")\n",
    "plt.show()"
   ]
  },
  {
   "cell_type": "markdown",
   "metadata": {},
   "source": [
    "## 4. Structure Learning Dashboard"
   ]
  },
  {
   "cell_type": "code",
   "execution_count": null,
   "metadata": {},
   "outputs": [],
   "source": [
    "# Create comprehensive dashboard\n",
    "fig = plot_structure_learning_dashboard(\n",
    "    trajectory_metrics,\n",
    "    title=\"Structure Learning Dashboard\"\n",
    ")\n",
    "plt.show()"
   ]
  },
  {
   "cell_type": "markdown",
   "metadata": {},
   "source": [
    "## 5. Compare Multiple Methods"
   ]
  },
  {
   "cell_type": "code",
   "execution_count": null,
   "metadata": {},
   "outputs": [],
   "source": [
    "# Run experiments with different methods\n",
    "from examples.complete_workflow_demo import run_progressive_learning_demo_with_oracle_interventions\n",
    "\n",
    "# Random interventions\n",
    "random_results = run_progressive_learning_demo_with_scm(scm, config)\n",
    "random_metrics = extract_trajectory_metrics_from_demo(random_results)\n",
    "\n",
    "# Oracle interventions\n",
    "oracle_results = run_progressive_learning_demo_with_oracle_interventions(scm, config)\n",
    "oracle_metrics = extract_trajectory_metrics_from_demo(oracle_results)\n",
    "\n",
    "# Prepare data for comparison\n",
    "results_by_method = {\n",
    "    \"Random Interventions\": {\n",
    "        'steps': random_metrics['steps'],\n",
    "        'shd_mean': random_metrics['shd_values'],\n",
    "        'f1_mean': random_metrics['f1_scores'],\n",
    "        'target_mean': random_metrics['target_values'],\n",
    "        'n_runs': 1\n",
    "    },\n",
    "    \"Oracle Interventions\": {\n",
    "        'steps': oracle_metrics['steps'],\n",
    "        'shd_mean': oracle_metrics['shd_values'],\n",
    "        'f1_mean': oracle_metrics['f1_scores'],\n",
    "        'target_mean': oracle_metrics['target_values'],\n",
    "        'n_runs': 1\n",
    "    }\n",
    "}\n",
    "\n",
    "# Create comparison plot\n",
    "fig = plot_baseline_comparison(\n",
    "    results_by_method,\n",
    "    title=\"Random vs Oracle Intervention Comparison\"\n",
    ")\n",
    "plt.show()"
   ]
  },
  {
   "cell_type": "markdown",
   "metadata": {},
   "source": [
    "## 6. Analyze Learning Progress"
   ]
  },
  {
   "cell_type": "code",
   "execution_count": null,
   "metadata": {},
   "outputs": [],
   "source": [
    "# Analyze key points in the learning trajectory\n",
    "import numpy as np\n",
    "\n",
    "# Find when F1 score crosses thresholds\n",
    "f1_scores = trajectory_metrics['f1_scores']\n",
    "steps = trajectory_metrics['steps']\n",
    "\n",
    "thresholds = [0.5, 0.7, 0.9]\n",
    "for threshold in thresholds:\n",
    "    crossing_idx = next((i for i, f1 in enumerate(f1_scores) if f1 >= threshold), None)\n",
    "    if crossing_idx is not None:\n",
    "        print(f\"F1 score crossed {threshold} at step {steps[crossing_idx]}\")\n",
    "    else:\n",
    "        print(f\"F1 score never reached {threshold}\")\n",
    "\n",
    "# Analyze convergence rate\n",
    "parent_likelihood = trajectory_metrics['true_parent_likelihood']\n",
    "if len(parent_likelihood) > 1:\n",
    "    improvement_rate = (parent_likelihood[-1] - parent_likelihood[0]) / (len(parent_likelihood) - 1)\n",
    "    print(f\"\\nAverage improvement rate: {improvement_rate:.4f} per step\")\n",
    "    \n",
    "# Find fastest learning period\n",
    "if len(f1_scores) > 5:\n",
    "    window_size = 5\n",
    "    improvements = []\n",
    "    for i in range(len(f1_scores) - window_size):\n",
    "        improvement = f1_scores[i + window_size] - f1_scores[i]\n",
    "        improvements.append((i, improvement))\n",
    "    \n",
    "    best_window = max(improvements, key=lambda x: x[1])\n",
    "    print(f\"\\nFastest learning: steps {best_window[0]+1} to {best_window[0]+window_size+1}\")\n",
    "    print(f\"F1 improvement: {best_window[1]:.3f}\")"
   ]
  },
  {
   "cell_type": "markdown",
   "metadata": {},
   "source": [
    "## 7. Save Plots"
   ]
  },
  {
   "cell_type": "code",
   "execution_count": null,
   "metadata": {},
   "outputs": [],
   "source": [
    "# Save all plots to a directory\n",
    "from src.causal_bayes_opt.visualization.plots import save_all_plots\n",
    "\n",
    "output_dir = \"notebook_plots\"\n",
    "saved_files = save_all_plots(\n",
    "    {'trajectory_metrics': trajectory_metrics},\n",
    "    output_dir=output_dir,\n",
    "    prefix=\"demo\"\n",
    ")\n",
    "\n",
    "print(f\"Saved {len(saved_files)} plots to {output_dir}/\")\n",
    "for file in saved_files:\n",
    "    print(f\"  - {Path(file).name}\")"
   ]
  }
 ],
 "metadata": {
  "kernelspec": {
   "display_name": "Python 3",
   "language": "python",
   "name": "python3"
  },
  "language_info": {
   "codemirror_mode": {
    "name": "ipython",
    "version": 3
   },
   "file_extension": ".py",
   "mimetype": "text/x-python",
   "name": "python",
   "nbconvert_exporter": "python",
   "pygments_lexer": "ipython3",
   "version": "3.9.0"
  }
 },
 "nbformat": 4,
 "nbformat_minor": 4
}