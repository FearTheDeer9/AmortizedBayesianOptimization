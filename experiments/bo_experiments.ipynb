{
 "cells": [
  {
   "cell_type": "markdown",
   "metadata": {},
   "source": [
    "# Getting plots for the BO algorithm"
   ]
  },
  {
   "cell_type": "code",
   "execution_count": 1,
   "metadata": {},
   "outputs": [
    {
     "name": "stderr",
     "output_type": "stream",
     "text": [
      "INFO:numexpr.utils:NumExpr defaulting to 10 threads.\n",
      "INFO:root:Initializing the Toy Graph Structures\n",
      "INFO:root:Getting the variables (mis and pomis) for the CBO algorithm\n",
      "INFO:root:Fitting the Gaussian Processes based on the new data\n",
      "INFO:GP:initializing Y\n",
      "INFO:GP:initializing inference method\n",
      "INFO:GP:adding kernel and likelihood as parameters\n",
      "INFO:GP:initializing Y\n",
      "INFO:GP:initializing inference method\n",
      "INFO:GP:adding kernel and likelihood as parameters\n",
      "INFO:root:Setting up the gaussian prior\n",
      "INFO:GP:initializing Y\n",
      "INFO:GP:initializing inference method\n",
      "INFO:GP:adding kernel and likelihood as parameters\n"
     ]
    },
    {
     "name": "stdout",
     "output_type": "stream",
     "text": [
      "/Users/harellidar/Documents/Imperial/Individual Project/causal_bayes_opt\n"
     ]
    },
    {
     "name": "stderr",
     "output_type": "stream",
     "text": [
      "INFO:root:SAFE OPTIMIZATION: resetting likelihood var to lower bound\n",
      "INFO:root:Using the fixed equal cost structure\n",
      "INFO:root:-------- Iteration 0 --------\n",
      "INFO:emukit.core.optimization.gradient_acquisition_optimizer:Starting gradient-based optimization of acquisition function <class 'emukit.bayesian_optimization.acquisitions.expected_improvement.ExpectedImprovement'>\n",
      "INFO:root:The global optimum was -0.5066568247713217\n",
      "INFO:root:The optimal point found in the optimizer is [[-1.24667467]] for [[0.44794364 4.16904769]]\n",
      "INFO:root:Total cost - 2.0: Cummulative cost - 2.0: Best Y - -1.2466746662366173\n",
      "INFO:root:-------- Iteration 1 --------\n",
      "INFO:emukit.core.optimization.gradient_acquisition_optimizer:Starting gradient-based optimization of acquisition function <class 'emukit.bayesian_optimization.acquisitions.expected_improvement.ExpectedImprovement'>\n",
      "INFO:root:The global optimum was -1.2466746662366173\n",
      "INFO:root:The optimal point found in the optimizer is [[-1.51399384]] for [[0.17380373 3.92181585]]\n",
      "INFO:root:Total cost - 2.0: Cummulative cost - 4.0: Best Y - -1.5139938350442377\n",
      "INFO:root:-------- Iteration 2 --------\n",
      "INFO:emukit.core.optimization.gradient_acquisition_optimizer:Starting gradient-based optimization of acquisition function <class 'emukit.bayesian_optimization.acquisitions.expected_improvement.ExpectedImprovement'>\n",
      "INFO:root:The global optimum was -1.5139938350442377\n",
      "INFO:root:The optimal point found in the optimizer is [[-1.8176138]] for [[0.35644509 2.87634347]]\n",
      "INFO:root:Total cost - 2.0: Cummulative cost - 6.0: Best Y - -1.8176137977078315\n"
     ]
    },
    {
     "data": {
      "text/plain": [
       "([-0.5066568247713217,\n",
       "  -1.2466746662366173,\n",
       "  -1.5139938350442377,\n",
       "  -1.8176137977078315],\n",
       " [-1.2466746662366173, -1.5139938350442377, -1.8176137977078315],\n",
       " array([2., 4., 6.]),\n",
       " [])"
      ]
     },
     "execution_count": 1,
     "metadata": {},
     "output_type": "execute_result"
    }
   ],
   "source": [
    "import os\n",
    "# set the directory to the root\n",
    "from algorithms.BO_algorithm import BO\n",
    "\n",
    "model = BO(\"Toy\")\n",
    "print(os.getcwd())\n",
    "model.run_algorithm(T=3)"
   ]
  }
 ],
 "metadata": {
  "kernelspec": {
   "display_name": ".venv",
   "language": "python",
   "name": "python3"
  },
  "language_info": {
   "codemirror_mode": {
    "name": "ipython",
    "version": 3
   },
   "file_extension": ".py",
   "mimetype": "text/x-python",
   "name": "python",
   "nbconvert_exporter": "python",
   "pygments_lexer": "ipython3",
   "version": "3.11.11"
  }
 },
 "nbformat": 4,
 "nbformat_minor": 2
}
