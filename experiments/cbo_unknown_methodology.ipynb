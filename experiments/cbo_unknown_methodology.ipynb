{
 "cells": [
  {
   "cell_type": "markdown",
   "metadata": {},
   "source": [
    "# Visualizing my methodology"
   ]
  },
  {
   "cell_type": "code",
   "execution_count": 1,
   "metadata": {},
   "outputs": [
    {
     "name": "stderr",
     "output_type": "stream",
     "text": [
      "INFO:numexpr.utils:NumExpr defaulting to 8 threads.\n",
      "No GPU automatically detected. Setting SETTINGS.GPU to 0, and SETTINGS.NJOBS to cpu_count.\n"
     ]
    },
    {
     "name": "stdout",
     "output_type": "stream",
     "text": [
      "cuda is available True\n"
     ]
    }
   ],
   "source": [
    "import os\n",
    "os.chdir(\"/vol/bitbucket/jd123/causal_bayes_opt\")\n",
    "from algorithms.PARENT_2_algorithm import PARENT\n",
    "from graphs.toy_graph import ToyGraph\n",
    "from graphs.graph_6_nodes import Graph6Nodes\n",
    "from graphs.data_setup import setup_observational_interventional"
   ]
  },
  {
   "cell_type": "code",
   "execution_count": 2,
   "metadata": {},
   "outputs": [
    {
     "name": "stderr",
     "output_type": "stream",
     "text": [
      "INFO:root:Initializing the Toy Graph Structures\n",
      "INFO:root:Sampling the observational data\n",
      "INFO:root:Sampling the interventional data\n",
      "INFO:root:Getting the variables (mis and pomis) for the CBO algorithm\n",
      "  0%|          | 0/30 [00:00<?, ?it/s]"
     ]
    },
    {
     "name": "stdout",
     "output_type": "stream",
     "text": [
      "The shape of X in this case is torch.Size([200, 3])\n"
     ]
    },
    {
     "name": "stderr",
     "output_type": "stream",
     "text": [
      "DataFrame.applymap has been deprecated. Use DataFrame.map instead.\n",
      "DataFrame.applymap has been deprecated. Use DataFrame.map instead.\n",
      "  3%|▎         | 1/30 [00:13<06:34, 13.62s/it]"
     ]
    },
    {
     "name": "stdout",
     "output_type": "stream",
     "text": [
      "y std: 1.2401765584945679\n",
      "inference mean: -0.006 inference std: 0.974\n",
      "inference mean: 0.066 inference std: 1.012\n",
      "0  groundtruth  False\n",
      "inference mean: 0.097 inference std: 1.072\n",
      "inference mean: 0.153 inference std: 1.021\n",
      "ttest mean: -0.117 ttest std: 0.593\n",
      "0 dr TtestResult(statistic=array([2.77883212]), pvalue=array([0.00597806]), df=array([199]))\n",
      "1  groundtruth  True\n",
      "inference mean: -5.657 inference std: 2.574\n",
      "inference mean: -4.419 inference std: 2.698\n",
      "ttest mean: -28.656 ttest std: 24.060\n",
      "1 dr TtestResult(statistic=array([16.84414944]), pvalue=array([3.74614882e-40]), df=array([199]))\n",
      "______Corrected p values______\n",
      "       0  dr_causal_graph   dr_p_values  direct_causal_graph  direct_p_values\n",
      "X  False                1  8.967086e-03                    0         0.977571\n",
      "Z   True                1  1.123845e-39                    1         0.000440\n",
      "N_features: 2, N_data: 200\n",
      "accuracy:  0.5\n",
      "groundtruth positives:  1 false negatives:  0\n",
      "groundtruth negatives:  1 false positives:  1\n",
      "The shape of X in this case is torch.Size([200, 3])\n"
     ]
    },
    {
     "name": "stderr",
     "output_type": "stream",
     "text": [
      "DataFrame.applymap has been deprecated. Use DataFrame.map instead.\n",
      "DataFrame.applymap has been deprecated. Use DataFrame.map instead.\n",
      "  7%|▋         | 2/30 [00:17<03:40,  7.86s/it]"
     ]
    },
    {
     "name": "stdout",
     "output_type": "stream",
     "text": [
      "y std: 0.9536638855934143\n",
      "inference mean: 0.022 inference std: 0.876\n",
      "inference mean: -0.026 inference std: 0.803\n",
      "0  groundtruth  False\n",
      "inference mean: 0.014 inference std: 0.867\n",
      "inference mean: 0.054 inference std: 0.833\n",
      "ttest mean: -0.024 ttest std: 0.228\n",
      "0 dr TtestResult(statistic=array([1.50219024]), pvalue=array([0.13463313]), df=array([199]))\n",
      "1  groundtruth  True\n",
      "inference mean: -1.008 inference std: 1.221\n",
      "inference mean: -1.128 inference std: 1.038\n",
      "ttest mean: -1.570 ttest std: 2.338\n",
      "1 dr TtestResult(statistic=array([9.49847951]), pvalue=array([6.97883089e-18]), df=array([199]))\n",
      "______Corrected p values______\n",
      "       0  dr_causal_graph   dr_p_values  direct_causal_graph  direct_p_values\n",
      "X  False                0  2.019497e-01                    1     9.486424e-04\n",
      "Z   True                1  2.093649e-17                    1     2.336076e-09\n",
      "N_features: 2, N_data: 200\n",
      "accuracy:  1.0\n",
      "groundtruth positives:  1 false negatives:  0\n",
      "groundtruth negatives:  1 false positives:  0\n",
      "The shape of X in this case is torch.Size([200, 3])\n"
     ]
    },
    {
     "name": "stderr",
     "output_type": "stream",
     "text": [
      "DataFrame.applymap has been deprecated. Use DataFrame.map instead.\n",
      "DataFrame.applymap has been deprecated. Use DataFrame.map instead.\n",
      " 10%|█         | 3/30 [00:21<02:51,  6.35s/it]"
     ]
    },
    {
     "name": "stdout",
     "output_type": "stream",
     "text": [
      "y std: 1.21159827709198\n",
      "inference mean: -0.007 inference std: 1.008\n",
      "inference mean: -0.008 inference std: 1.033\n",
      "0  groundtruth  False\n",
      "inference mean: 0.102 inference std: 1.036\n",
      "inference mean: 0.130 inference std: 1.055\n",
      "ttest mean: -0.056 ttest std: 0.400\n",
      "0 dr TtestResult(statistic=array([1.97321999]), pvalue=array([0.0498548]), df=array([199]))\n",
      "1  groundtruth  True\n",
      "inference mean: -1.859 inference std: 1.353\n",
      "inference mean: -1.558 inference std: 1.451\n",
      "ttest mean: -3.288 ttest std: 4.560\n",
      "1 dr TtestResult(statistic=array([10.19610397]), pvalue=array([6.57887962e-20]), df=array([199]))\n",
      "______Corrected p values______\n",
      "       0  dr_causal_graph   dr_p_values  direct_causal_graph  direct_p_values\n",
      "X  False                0  7.478220e-02                    1         0.001854\n",
      "Z   True                1  1.973664e-19                    0         0.070828\n",
      "N_features: 2, N_data: 200\n",
      "accuracy:  1.0\n",
      "groundtruth positives:  1 false negatives:  0\n",
      "groundtruth negatives:  1 false positives:  0\n",
      "The shape of X in this case is torch.Size([200, 3])\n"
     ]
    },
    {
     "name": "stderr",
     "output_type": "stream",
     "text": [
      "DataFrame.applymap has been deprecated. Use DataFrame.map instead.\n",
      "DataFrame.applymap has been deprecated. Use DataFrame.map instead.\n",
      " 13%|█▎        | 4/30 [00:27<02:37,  6.04s/it]"
     ]
    },
    {
     "name": "stdout",
     "output_type": "stream",
     "text": [
      "y std: 1.2320765256881714\n",
      "inference mean: -0.031 inference std: 0.986\n",
      "inference mean: -0.036 inference std: 1.000\n",
      "0  groundtruth  False\n",
      "inference mean: 0.170 inference std: 1.054\n",
      "inference mean: 0.243 inference std: 1.109\n",
      "ttest mean: -0.184 ttest std: 1.059\n",
      "0 dr TtestResult(statistic=array([2.45887058]), pvalue=array([0.01479171]), df=array([199]))\n",
      "1  groundtruth  True\n",
      "inference mean: -1.427 inference std: 1.253\n",
      "inference mean: -0.961 inference std: 1.378\n",
      "ttest mean: -1.884 ttest std: 3.803\n",
      "1 dr TtestResult(statistic=array([7.00607944]), pvalue=array([3.70286023e-11]), df=array([199]))\n",
      "______Corrected p values______\n",
      "       0  dr_causal_graph   dr_p_values  direct_causal_graph  direct_p_values\n",
      "X  False                1  2.218756e-02                    0         0.201761\n",
      "Z   True                1  1.110858e-10                    0         1.000000\n",
      "N_features: 2, N_data: 200\n",
      "accuracy:  0.5\n",
      "groundtruth positives:  1 false negatives:  0\n",
      "groundtruth negatives:  1 false positives:  1\n",
      "The shape of X in this case is torch.Size([200, 3])\n"
     ]
    },
    {
     "name": "stderr",
     "output_type": "stream",
     "text": [
      "DataFrame.applymap has been deprecated. Use DataFrame.map instead.\n",
      "DataFrame.applymap has been deprecated. Use DataFrame.map instead.\n",
      " 17%|█▋        | 5/30 [00:34<02:37,  6.31s/it]"
     ]
    },
    {
     "name": "stdout",
     "output_type": "stream",
     "text": [
      "y std: 1.1989836692810059\n",
      "inference mean: -0.025 inference std: 0.924\n",
      "inference mean: -0.038 inference std: 0.919\n",
      "0  groundtruth  False\n",
      "inference mean: 0.123 inference std: 1.054\n",
      "inference mean: 0.133 inference std: 1.040\n",
      "ttest mean: -0.253 ttest std: 1.108\n",
      "0 dr TtestResult(statistic=array([3.23586507]), pvalue=array([0.00142038]), df=array([199]))\n",
      "1  groundtruth  True\n",
      "inference mean: -2.342 inference std: 2.821\n",
      "inference mean: -1.867 inference std: 2.420\n",
      "ttest mean: -9.051 ttest std: 11.081\n",
      "1 dr TtestResult(statistic=array([11.55154319]), pvalue=array([5.92473555e-24]), df=array([199]))\n",
      "______Corrected p values______\n",
      "       0  dr_causal_graph   dr_p_values  direct_causal_graph  direct_p_values\n",
      "X  False                1  2.130566e-03                    1         0.002631\n",
      "Z   True                1  1.777421e-23                    0         0.409233\n",
      "N_features: 2, N_data: 200\n",
      "accuracy:  0.5\n",
      "groundtruth positives:  1 false negatives:  0\n",
      "groundtruth negatives:  1 false positives:  1\n",
      "The shape of X in this case is torch.Size([200, 3])\n"
     ]
    },
    {
     "name": "stderr",
     "output_type": "stream",
     "text": [
      "DataFrame.applymap has been deprecated. Use DataFrame.map instead.\n",
      "DataFrame.applymap has been deprecated. Use DataFrame.map instead.\n",
      " 20%|██        | 6/30 [00:38<02:09,  5.42s/it]"
     ]
    },
    {
     "name": "stdout",
     "output_type": "stream",
     "text": [
      "y std: 1.288468360900879\n",
      "inference mean: -0.016 inference std: 1.062\n",
      "inference mean: -0.004 inference std: 1.092\n",
      "0  groundtruth  False\n",
      "inference mean: 0.080 inference std: 1.218\n",
      "inference mean: 0.087 inference std: 1.132\n",
      "ttest mean: -0.169 ttest std: 0.831\n",
      "0 dr TtestResult(statistic=array([2.88001806]), pvalue=array([0.00441195]), df=array([199]))\n",
      "1  groundtruth  True\n",
      "inference mean: -2.158 inference std: 2.561\n",
      "inference mean: -1.460 inference std: 1.391\n",
      "ttest mean: -4.428 ttest std: 8.547\n",
      "1 dr TtestResult(statistic=array([7.3272262]), pvalue=array([5.74537015e-12]), df=array([199]))\n",
      "______Corrected p values______\n",
      "       0  dr_causal_graph   dr_p_values  direct_causal_graph  direct_p_values\n",
      "X  False                1  6.617926e-03                    0         1.000000\n",
      "Z   True                1  1.723611e-11                    0         0.185111\n",
      "N_features: 2, N_data: 200\n",
      "accuracy:  0.5\n",
      "groundtruth positives:  1 false negatives:  0\n",
      "groundtruth negatives:  1 false positives:  1\n",
      "The shape of X in this case is torch.Size([200, 3])\n"
     ]
    },
    {
     "name": "stderr",
     "output_type": "stream",
     "text": [
      "DataFrame.applymap has been deprecated. Use DataFrame.map instead.\n",
      "DataFrame.applymap has been deprecated. Use DataFrame.map instead.\n",
      " 23%|██▎       | 7/30 [00:43<02:01,  5.29s/it]"
     ]
    },
    {
     "name": "stdout",
     "output_type": "stream",
     "text": [
      "y std: 1.135798692703247\n",
      "inference mean: -0.010 inference std: 0.963\n",
      "inference mean: 0.007 inference std: 0.986\n",
      "0  groundtruth  False\n",
      "inference mean: 0.077 inference std: 1.028\n",
      "inference mean: 0.271 inference std: 1.057\n",
      "ttest mean: -0.122 ttest std: 0.929\n",
      "0 dr TtestResult(statistic=array([1.85144305]), pvalue=array([0.06558751]), df=array([199]))\n",
      "1  groundtruth  True\n",
      "inference mean: -1.525 inference std: 1.762\n",
      "inference mean: -1.025 inference std: 1.565\n",
      "ttest mean: -2.625 ttest std: 4.196\n",
      "1 dr TtestResult(statistic=array([8.84672329]), pvalue=array([4.8887775e-16]), df=array([199]))\n",
      "______Corrected p values______\n",
      "       0  dr_causal_graph   dr_p_values  direct_causal_graph  direct_p_values\n",
      "X  False                0  9.838126e-02                    1         0.005335\n",
      "Z   True                1  1.466633e-15                    0         0.981779\n",
      "N_features: 2, N_data: 200\n",
      "accuracy:  1.0\n",
      "groundtruth positives:  1 false negatives:  0\n",
      "groundtruth negatives:  1 false positives:  0\n",
      "The shape of X in this case is torch.Size([200, 3])\n"
     ]
    },
    {
     "name": "stderr",
     "output_type": "stream",
     "text": [
      "DataFrame.applymap has been deprecated. Use DataFrame.map instead.\n",
      "DataFrame.applymap has been deprecated. Use DataFrame.map instead.\n",
      " 27%|██▋       | 8/30 [00:47<01:50,  5.04s/it]"
     ]
    },
    {
     "name": "stdout",
     "output_type": "stream",
     "text": [
      "y std: 1.1257147789001465\n",
      "inference mean: -0.054 inference std: 0.910\n",
      "inference mean: 0.007 inference std: 0.951\n",
      "0  groundtruth  False\n",
      "inference mean: -0.058 inference std: 0.981\n",
      "inference mean: 0.080 inference std: 0.983\n",
      "ttest mean: -0.065 ttest std: 0.420\n",
      "0 dr TtestResult(statistic=array([2.19662223]), pvalue=array([0.02920242]), df=array([199]))\n",
      "1  groundtruth  True\n",
      "inference mean: -3.925 inference std: 3.203\n",
      "inference mean: -1.809 inference std: 1.349\n",
      "ttest mean: -8.053 ttest std: 9.498\n",
      "1 dr TtestResult(statistic=array([11.99092645]), pvalue=array([2.74936564e-25]), df=array([199]))\n",
      "______Corrected p values______\n",
      "       0  dr_causal_graph   dr_p_values  direct_causal_graph  direct_p_values\n",
      "X  False                1  4.380363e-02                    1         0.006902\n",
      "Z   True                1  8.248097e-25                    1         0.000042\n",
      "N_features: 2, N_data: 200\n",
      "accuracy:  0.5\n",
      "groundtruth positives:  1 false negatives:  0\n",
      "groundtruth negatives:  1 false positives:  1\n",
      "The shape of X in this case is torch.Size([200, 3])\n"
     ]
    },
    {
     "name": "stderr",
     "output_type": "stream",
     "text": [
      "DataFrame.applymap has been deprecated. Use DataFrame.map instead.\n",
      "DataFrame.applymap has been deprecated. Use DataFrame.map instead.\n",
      " 30%|███       | 9/30 [00:54<01:56,  5.56s/it]"
     ]
    },
    {
     "name": "stdout",
     "output_type": "stream",
     "text": [
      "y std: 1.237452507019043\n",
      "inference mean: 0.021 inference std: 1.041\n",
      "inference mean: -0.030 inference std: 1.078\n",
      "0  groundtruth  False\n",
      "inference mean: 0.239 inference std: 1.178\n",
      "inference mean: 0.144 inference std: 1.178\n",
      "ttest mean: -0.246 ttest std: 1.005\n",
      "0 dr TtestResult(statistic=array([3.46255762]), pvalue=array([0.00065494]), df=array([199]))\n",
      "1  groundtruth  True\n",
      "inference mean: -2.949 inference std: 3.180\n",
      "inference mean: -2.327 inference std: 1.768\n",
      "ttest mean: -6.446 ttest std: 8.701\n",
      "1 dr TtestResult(statistic=array([10.47760148]), pvalue=array([9.73797282e-21]), df=array([199]))\n",
      "______Corrected p values______\n",
      "       0  dr_causal_graph   dr_p_values  direct_causal_graph  direct_p_values\n",
      "X  False                1  9.824129e-04                    0         0.093365\n",
      "Z   True                1  2.921392e-20                    1         0.000011\n",
      "N_features: 2, N_data: 200\n",
      "accuracy:  0.5\n",
      "groundtruth positives:  1 false negatives:  0\n",
      "groundtruth negatives:  1 false positives:  1\n",
      "The shape of X in this case is torch.Size([200, 3])\n"
     ]
    },
    {
     "name": "stderr",
     "output_type": "stream",
     "text": [
      "DataFrame.applymap has been deprecated. Use DataFrame.map instead.\n",
      "DataFrame.applymap has been deprecated. Use DataFrame.map instead.\n",
      " 33%|███▎      | 10/30 [00:59<01:48,  5.44s/it]"
     ]
    },
    {
     "name": "stdout",
     "output_type": "stream",
     "text": [
      "y std: 1.281220555305481\n",
      "inference mean: 0.015 inference std: 0.951\n",
      "inference mean: 0.009 inference std: 1.020\n",
      "0  groundtruth  False\n",
      "inference mean: -0.019 inference std: 1.097\n",
      "inference mean: -0.060 inference std: 1.092\n",
      "ttest mean: -0.224 ttest std: 1.291\n",
      "0 dr TtestResult(statistic=array([2.45571586]), pvalue=array([0.01491823]), df=array([199]))\n",
      "1  groundtruth  True\n",
      "inference mean: -3.085 inference std: 2.357\n",
      "inference mean: -3.133 inference std: 2.000\n",
      "ttest mean: -11.068 ttest std: 11.138\n",
      "1 dr TtestResult(statistic=array([14.05356788]), pvalue=array([1.29281192e-31]), df=array([199]))\n",
      "______Corrected p values______\n",
      "       0  dr_causal_graph   dr_p_values  direct_causal_graph  direct_p_values\n",
      "X  False                1  2.237735e-02                    1     1.286445e-04\n",
      "Z   True                1  3.878436e-31                    1     2.017574e-08\n",
      "N_features: 2, N_data: 200\n",
      "accuracy:  0.5\n",
      "groundtruth positives:  1 false negatives:  0\n",
      "groundtruth negatives:  1 false positives:  1\n",
      "The shape of X in this case is torch.Size([200, 3])\n"
     ]
    },
    {
     "name": "stderr",
     "output_type": "stream",
     "text": [
      "DataFrame.applymap has been deprecated. Use DataFrame.map instead.\n",
      "DataFrame.applymap has been deprecated. Use DataFrame.map instead.\n",
      " 37%|███▋      | 11/30 [01:04<01:43,  5.47s/it]"
     ]
    },
    {
     "name": "stdout",
     "output_type": "stream",
     "text": [
      "y std: 1.223737120628357\n",
      "inference mean: -0.019 inference std: 1.044\n",
      "inference mean: 0.007 inference std: 1.090\n",
      "0  groundtruth  False\n",
      "inference mean: 0.139 inference std: 1.084\n",
      "inference mean: 0.124 inference std: 1.160\n",
      "ttest mean: -0.125 ttest std: 1.099\n",
      "0 dr TtestResult(statistic=array([1.60433901]), pvalue=array([0.1102252]), df=array([199]))\n",
      "1  groundtruth  True\n",
      "inference mean: -1.855 inference std: 1.767\n",
      "inference mean: -2.170 inference std: 1.755\n",
      "ttest mean: -5.430 ttest std: 6.946\n",
      "1 dr TtestResult(statistic=array([11.05471484]), pvalue=array([1.85854562e-22]), df=array([199]))\n",
      "______Corrected p values______\n",
      "       0  dr_causal_graph   dr_p_values  direct_causal_graph  direct_p_values\n",
      "X  False                0  1.653378e-01                    0         0.167754\n",
      "Z   True                1  5.575637e-22                    0         0.167754\n",
      "N_features: 2, N_data: 200\n",
      "accuracy:  1.0\n",
      "groundtruth positives:  1 false negatives:  0\n",
      "groundtruth negatives:  1 false positives:  0\n",
      "The shape of X in this case is torch.Size([200, 3])\n"
     ]
    },
    {
     "name": "stderr",
     "output_type": "stream",
     "text": [
      "DataFrame.applymap has been deprecated. Use DataFrame.map instead.\n",
      "DataFrame.applymap has been deprecated. Use DataFrame.map instead.\n",
      " 40%|████      | 12/30 [01:10<01:36,  5.38s/it]"
     ]
    },
    {
     "name": "stdout",
     "output_type": "stream",
     "text": [
      "y std: 1.235525369644165\n",
      "inference mean: -0.020 inference std: 1.033\n",
      "inference mean: 0.019 inference std: 1.064\n",
      "0  groundtruth  False\n",
      "inference mean: 0.124 inference std: 1.104\n",
      "inference mean: 0.171 inference std: 1.102\n",
      "ttest mean: -0.094 ttest std: 0.817\n",
      "0 dr TtestResult(statistic=array([1.63553632]), pvalue=array([0.10351737]), df=array([199]))\n",
      "1  groundtruth  True\n",
      "inference mean: -1.118 inference std: 1.495\n",
      "inference mean: -0.877 inference std: 1.359\n",
      "ttest mean: -1.824 ttest std: 3.292\n",
      "1 dr TtestResult(statistic=array([7.83789403]), pvalue=array([2.71064825e-13]), df=array([199]))\n",
      "______Corrected p values______\n",
      "       0  dr_causal_graph   dr_p_values  direct_causal_graph  direct_p_values\n",
      "X  False                0  1.552761e-01                    0          0.78603\n",
      "Z   True                1  8.131945e-13                    0          0.78603\n",
      "N_features: 2, N_data: 200\n",
      "accuracy:  1.0\n",
      "groundtruth positives:  1 false negatives:  0\n",
      "groundtruth negatives:  1 false positives:  0\n",
      "The shape of X in this case is torch.Size([200, 3])\n"
     ]
    },
    {
     "name": "stderr",
     "output_type": "stream",
     "text": [
      "DataFrame.applymap has been deprecated. Use DataFrame.map instead.\n",
      "DataFrame.applymap has been deprecated. Use DataFrame.map instead.\n",
      " 43%|████▎     | 13/30 [01:16<01:38,  5.78s/it]"
     ]
    },
    {
     "name": "stdout",
     "output_type": "stream",
     "text": [
      "y std: 1.1603883504867554\n",
      "inference mean: 0.012 inference std: 0.968\n",
      "inference mean: -0.007 inference std: 0.955\n",
      "0  groundtruth  False\n",
      "inference mean: 0.081 inference std: 1.009\n",
      "inference mean: 0.066 inference std: 0.985\n",
      "ttest mean: -0.069 ttest std: 0.547\n",
      "0 dr TtestResult(statistic=array([1.77115215]), pvalue=array([0.07806608]), df=array([199]))\n",
      "1  groundtruth  True\n",
      "inference mean: -0.229 inference std: 1.391\n",
      "inference mean: -0.748 inference std: 1.484\n",
      "ttest mean: -0.937 ttest std: 2.471\n",
      "1 dr TtestResult(statistic=array([5.36178749]), pvalue=array([2.27266896e-07]), df=array([199]))\n",
      "______Corrected p values______\n",
      "       0  dr_causal_graph   dr_p_values  direct_causal_graph  direct_p_values\n",
      "X  False                0  1.170991e-01                    0         0.640937\n",
      "Z   True                1  6.818007e-07                    1         0.040807\n",
      "N_features: 2, N_data: 200\n",
      "accuracy:  1.0\n",
      "groundtruth positives:  1 false negatives:  0\n",
      "groundtruth negatives:  1 false positives:  0\n",
      "The shape of X in this case is torch.Size([200, 3])\n"
     ]
    },
    {
     "name": "stderr",
     "output_type": "stream",
     "text": [
      "DataFrame.applymap has been deprecated. Use DataFrame.map instead.\n",
      "DataFrame.applymap has been deprecated. Use DataFrame.map instead.\n",
      " 47%|████▋     | 14/30 [01:23<01:35,  5.94s/it]"
     ]
    },
    {
     "name": "stdout",
     "output_type": "stream",
     "text": [
      "y std: 1.1173208951950073\n",
      "inference mean: -0.019 inference std: 0.966\n",
      "inference mean: -0.029 inference std: 0.967\n",
      "0  groundtruth  False\n",
      "inference mean: -0.015 inference std: 1.016\n",
      "inference mean: -0.002 inference std: 1.002\n",
      "ttest mean: -0.087 ttest std: 0.326\n",
      "0 dr TtestResult(statistic=array([3.77881608]), pvalue=array([0.00020816]), df=array([199]))\n",
      "1  groundtruth  True\n",
      "inference mean: -0.821 inference std: 1.531\n",
      "inference mean: -1.016 inference std: 1.176\n",
      "ttest mean: -1.419 ttest std: 2.820\n",
      "1 dr TtestResult(statistic=array([7.11424537]), pvalue=array([1.98717725e-11]), df=array([199]))\n",
      "______Corrected p values______\n",
      "       0  dr_causal_graph   dr_p_values  direct_causal_graph  direct_p_values\n",
      "X  False                1  3.122344e-04                    1         0.004747\n",
      "Z   True                1  5.961532e-11                    1         0.000272\n",
      "N_features: 2, N_data: 200\n",
      "accuracy:  0.5\n",
      "groundtruth positives:  1 false negatives:  0\n",
      "groundtruth negatives:  1 false positives:  1\n",
      "The shape of X in this case is torch.Size([200, 3])\n"
     ]
    },
    {
     "name": "stderr",
     "output_type": "stream",
     "text": [
      "DataFrame.applymap has been deprecated. Use DataFrame.map instead.\n",
      "DataFrame.applymap has been deprecated. Use DataFrame.map instead.\n",
      " 50%|█████     | 15/30 [01:31<01:38,  6.58s/it]"
     ]
    },
    {
     "name": "stdout",
     "output_type": "stream",
     "text": [
      "y std: 1.2306349277496338\n",
      "inference mean: -0.035 inference std: 0.985\n",
      "inference mean: 0.003 inference std: 0.992\n",
      "0  groundtruth  False\n",
      "inference mean: 0.044 inference std: 1.056\n",
      "inference mean: 0.091 inference std: 1.109\n",
      "ttest mean: -0.181 ttest std: 0.658\n",
      "0 dr TtestResult(statistic=array([3.88659057]), pvalue=array([0.00013843]), df=array([199]))\n",
      "1  groundtruth  True\n",
      "inference mean: -1.148 inference std: 1.395\n",
      "inference mean: -0.643 inference std: 1.651\n",
      "ttest mean: -1.823 ttest std: 3.595\n",
      "1 dr TtestResult(statistic=array([7.1725484]), pvalue=array([1.41768849e-11]), df=array([199]))\n",
      "______Corrected p values______\n",
      "       0  dr_causal_graph   dr_p_values  direct_causal_graph  direct_p_values\n",
      "X  False                1  2.076424e-04                    0         0.215050\n",
      "Z   True                1  4.253065e-11                    1         0.013958\n",
      "N_features: 2, N_data: 200\n",
      "accuracy:  0.5\n",
      "groundtruth positives:  1 false negatives:  0\n",
      "groundtruth negatives:  1 false positives:  1\n",
      "The shape of X in this case is torch.Size([200, 3])\n"
     ]
    },
    {
     "name": "stderr",
     "output_type": "stream",
     "text": [
      "DataFrame.applymap has been deprecated. Use DataFrame.map instead.\n",
      "DataFrame.applymap has been deprecated. Use DataFrame.map instead.\n",
      " 53%|█████▎    | 16/30 [01:37<01:29,  6.36s/it]"
     ]
    },
    {
     "name": "stdout",
     "output_type": "stream",
     "text": [
      "y std: 1.2121771574020386\n",
      "inference mean: -0.025 inference std: 1.018\n",
      "inference mean: -0.011 inference std: 1.000\n",
      "0  groundtruth  False\n",
      "inference mean: 0.108 inference std: 1.091\n",
      "inference mean: -0.011 inference std: 1.030\n",
      "ttest mean: -0.090 ttest std: 0.626\n",
      "0 dr TtestResult(statistic=array([2.04318197]), pvalue=array([0.04235256]), df=array([199]))\n",
      "1  groundtruth  True\n",
      "inference mean: -1.928 inference std: 1.535\n",
      "inference mean: -2.613 inference std: 1.741\n",
      "ttest mean: -6.512 ttest std: 7.685\n",
      "1 dr TtestResult(statistic=array([11.98284042]), pvalue=array([2.90966742e-25]), df=array([199]))\n",
      "______Corrected p values______\n",
      "       0  dr_causal_graph   dr_p_values  direct_causal_graph  direct_p_values\n",
      "X  False                0  6.352884e-02                    1         0.015755\n",
      "Z   True                1  8.729002e-25                    1         0.009860\n",
      "N_features: 2, N_data: 200\n",
      "accuracy:  1.0\n",
      "groundtruth positives:  1 false negatives:  0\n",
      "groundtruth negatives:  1 false positives:  0\n",
      "The shape of X in this case is torch.Size([200, 3])\n"
     ]
    },
    {
     "name": "stderr",
     "output_type": "stream",
     "text": [
      "DataFrame.applymap has been deprecated. Use DataFrame.map instead.\n",
      "DataFrame.applymap has been deprecated. Use DataFrame.map instead.\n",
      " 57%|█████▋    | 17/30 [01:43<01:21,  6.31s/it]"
     ]
    },
    {
     "name": "stdout",
     "output_type": "stream",
     "text": [
      "y std: 1.1111996173858643\n",
      "inference mean: -0.021 inference std: 0.936\n",
      "inference mean: 0.002 inference std: 0.941\n",
      "0  groundtruth  False\n",
      "inference mean: -0.083 inference std: 0.955\n",
      "inference mean: -0.060 inference std: 0.972\n",
      "ttest mean: -0.052 ttest std: 0.247\n",
      "0 dr TtestResult(statistic=array([2.95860982]), pvalue=array([0.00346491]), df=array([199]))\n",
      "1  groundtruth  True\n",
      "inference mean: -0.736 inference std: 1.471\n",
      "inference mean: -0.808 inference std: 1.349\n",
      "ttest mean: -1.571 ttest std: 3.043\n",
      "1 dr TtestResult(statistic=array([7.30148364]), pvalue=array([6.68217507e-12]), df=array([199]))\n",
      "______Corrected p values______\n",
      "       0  dr_causal_graph   dr_p_values  direct_causal_graph  direct_p_values\n",
      "X  False                1  5.197368e-03                    0         0.137103\n",
      "Z   True                1  2.004653e-11                    0         1.000000\n",
      "N_features: 2, N_data: 200\n",
      "accuracy:  0.5\n",
      "groundtruth positives:  1 false negatives:  0\n",
      "groundtruth negatives:  1 false positives:  1\n",
      "The shape of X in this case is torch.Size([200, 3])\n"
     ]
    },
    {
     "name": "stderr",
     "output_type": "stream",
     "text": [
      "DataFrame.applymap has been deprecated. Use DataFrame.map instead.\n",
      "DataFrame.applymap has been deprecated. Use DataFrame.map instead.\n",
      " 60%|██████    | 18/30 [01:53<01:30,  7.54s/it]"
     ]
    },
    {
     "name": "stdout",
     "output_type": "stream",
     "text": [
      "y std: 1.1403255462646484\n",
      "inference mean: -0.037 inference std: 0.974\n",
      "inference mean: 0.006 inference std: 0.958\n",
      "0  groundtruth  False\n",
      "inference mean: 0.266 inference std: 1.153\n",
      "inference mean: 0.258 inference std: 1.025\n",
      "ttest mean: -0.260 ttest std: 1.284\n",
      "0 dr TtestResult(statistic=array([2.86431297]), pvalue=array([0.00462746]), df=array([199]))\n",
      "1  groundtruth  True\n",
      "inference mean: -1.201 inference std: 1.384\n",
      "inference mean: -1.226 inference std: 1.882\n",
      "ttest mean: -2.674 ttest std: 4.533\n",
      "1 dr TtestResult(statistic=array([8.34031228]), pvalue=array([1.21749779e-14]), df=array([199]))\n",
      "______Corrected p values______\n",
      "       0  dr_causal_graph   dr_p_values  direct_causal_graph  direct_p_values\n",
      "X  False                1  6.941185e-03                    1         0.012203\n",
      "Z   True                1  3.652493e-14                    0         1.000000\n",
      "N_features: 2, N_data: 200\n",
      "accuracy:  0.5\n",
      "groundtruth positives:  1 false negatives:  0\n",
      "groundtruth negatives:  1 false positives:  1\n",
      "The shape of X in this case is torch.Size([200, 3])\n"
     ]
    },
    {
     "name": "stderr",
     "output_type": "stream",
     "text": [
      "DataFrame.applymap has been deprecated. Use DataFrame.map instead.\n",
      "DataFrame.applymap has been deprecated. Use DataFrame.map instead.\n",
      " 63%|██████▎   | 19/30 [01:59<01:17,  7.06s/it]"
     ]
    },
    {
     "name": "stdout",
     "output_type": "stream",
     "text": [
      "y std: 1.179821491241455\n",
      "inference mean: 0.004 inference std: 0.969\n",
      "inference mean: 0.014 inference std: 1.048\n",
      "0  groundtruth  False\n",
      "inference mean: 0.015 inference std: 1.046\n",
      "inference mean: 0.019 inference std: 1.112\n",
      "ttest mean: -0.139 ttest std: 0.596\n",
      "0 dr TtestResult(statistic=array([3.30659464]), pvalue=array([0.00112041]), df=array([199]))\n",
      "1  groundtruth  True\n",
      "inference mean: -2.163 inference std: 1.993\n",
      "inference mean: -2.011 inference std: 2.029\n",
      "ttest mean: -6.411 ttest std: 8.227\n",
      "1 dr TtestResult(statistic=array([11.02057766]), pvalue=array([2.35226121e-22]), df=array([199]))\n",
      "______Corrected p values______\n",
      "       0  dr_causal_graph   dr_p_values  direct_causal_graph  direct_p_values\n",
      "X  False                1  1.680621e-03                    0         0.943271\n",
      "Z   True                1  7.056784e-22                    0         0.118703\n",
      "N_features: 2, N_data: 200\n",
      "accuracy:  0.5\n",
      "groundtruth positives:  1 false negatives:  0\n",
      "groundtruth negatives:  1 false positives:  1\n",
      "The shape of X in this case is torch.Size([200, 3])\n"
     ]
    },
    {
     "name": "stderr",
     "output_type": "stream",
     "text": [
      "DataFrame.applymap has been deprecated. Use DataFrame.map instead.\n",
      "DataFrame.applymap has been deprecated. Use DataFrame.map instead.\n",
      " 67%|██████▋   | 20/30 [02:05<01:08,  6.83s/it]"
     ]
    },
    {
     "name": "stdout",
     "output_type": "stream",
     "text": [
      "y std: 1.234804391860962\n",
      "inference mean: -0.003 inference std: 1.039\n",
      "inference mean: -0.052 inference std: 1.035\n",
      "0  groundtruth  False\n",
      "inference mean: 0.191 inference std: 1.110\n",
      "inference mean: 0.101 inference std: 1.079\n",
      "ttest mean: -0.116 ttest std: 0.701\n",
      "0 dr TtestResult(statistic=array([2.33130373]), pvalue=array([0.02073823]), df=array([199]))\n",
      "1  groundtruth  True\n",
      "inference mean: -0.933 inference std: 1.600\n",
      "inference mean: -0.689 inference std: 1.629\n",
      "ttest mean: -2.042 ttest std: 3.494\n",
      "1 dr TtestResult(statistic=array([8.26554746]), pvalue=array([1.94311108e-14]), df=array([199]))\n",
      "______Corrected p values______\n",
      "       0  dr_causal_graph   dr_p_values  direct_causal_graph  direct_p_values\n",
      "X  False                1  3.110735e-02                    0         0.252643\n",
      "Z   True                1  5.829333e-14                    1         0.002569\n",
      "N_features: 2, N_data: 200\n",
      "accuracy:  0.5\n",
      "groundtruth positives:  1 false negatives:  0\n",
      "groundtruth negatives:  1 false positives:  1\n",
      "The shape of X in this case is torch.Size([200, 3])\n"
     ]
    },
    {
     "name": "stderr",
     "output_type": "stream",
     "text": [
      "DataFrame.applymap has been deprecated. Use DataFrame.map instead.\n",
      "DataFrame.applymap has been deprecated. Use DataFrame.map instead.\n",
      " 70%|███████   | 21/30 [02:11<00:59,  6.60s/it]"
     ]
    },
    {
     "name": "stdout",
     "output_type": "stream",
     "text": [
      "y std: 1.1455495357513428\n",
      "inference mean: -0.032 inference std: 0.960\n",
      "inference mean: 0.015 inference std: 0.971\n",
      "0  groundtruth  False\n",
      "inference mean: 0.067 inference std: 0.999\n",
      "inference mean: 0.153 inference std: 1.029\n",
      "ttest mean: -0.105 ttest std: 0.482\n",
      "0 dr TtestResult(statistic=array([3.09155221]), pvalue=array([0.00227666]), df=array([199]))\n",
      "1  groundtruth  True\n",
      "inference mean: -0.375 inference std: 1.755\n",
      "inference mean: -0.880 inference std: 1.549\n",
      "ttest mean: -1.723 ttest std: 3.123\n",
      "1 dr TtestResult(statistic=array([7.80261229]), pvalue=array([3.3587036e-13]), df=array([199]))\n",
      "______Corrected p values______\n",
      "       0  dr_causal_graph   dr_p_values  direct_causal_graph  direct_p_values\n",
      "X  False                1  3.414991e-03                    0         0.091468\n",
      "Z   True                1  1.007611e-12                    0         0.306049\n",
      "N_features: 2, N_data: 200\n",
      "accuracy:  0.5\n",
      "groundtruth positives:  1 false negatives:  0\n",
      "groundtruth negatives:  1 false positives:  1\n",
      "The shape of X in this case is torch.Size([200, 3])\n"
     ]
    },
    {
     "name": "stderr",
     "output_type": "stream",
     "text": [
      "DataFrame.applymap has been deprecated. Use DataFrame.map instead.\n",
      "DataFrame.applymap has been deprecated. Use DataFrame.map instead.\n",
      " 73%|███████▎  | 22/30 [02:18<00:52,  6.61s/it]"
     ]
    },
    {
     "name": "stdout",
     "output_type": "stream",
     "text": [
      "y std: 1.179650068283081\n",
      "inference mean: -0.000 inference std: 1.004\n",
      "inference mean: -0.061 inference std: 0.996\n",
      "0  groundtruth  False\n",
      "inference mean: 0.110 inference std: 1.033\n",
      "inference mean: 0.064 inference std: 1.014\n",
      "ttest mean: -0.039 ttest std: 0.451\n",
      "0 dr TtestResult(statistic=array([1.23068913]), pvalue=array([0.21989182]), df=array([199]))\n",
      "1  groundtruth  True\n",
      "inference mean: -3.041 inference std: 1.500\n",
      "inference mean: -4.032 inference std: 2.131\n",
      "ttest mean: -12.326 ttest std: 10.276\n",
      "1 dr TtestResult(statistic=array([16.96401846]), pvalue=array([1.62585674e-40]), df=array([199]))\n",
      "______Corrected p values______\n",
      "       0  dr_causal_graph   dr_p_values  direct_causal_graph  direct_p_values\n",
      "X  False                0  3.298377e-01                    0         0.813173\n",
      "Z   True                1  4.877570e-40                    1         0.013597\n",
      "N_features: 2, N_data: 200\n",
      "accuracy:  1.0\n",
      "groundtruth positives:  1 false negatives:  0\n",
      "groundtruth negatives:  1 false positives:  0\n",
      "The shape of X in this case is torch.Size([200, 3])\n"
     ]
    },
    {
     "name": "stderr",
     "output_type": "stream",
     "text": [
      "DataFrame.applymap has been deprecated. Use DataFrame.map instead.\n",
      "DataFrame.applymap has been deprecated. Use DataFrame.map instead.\n",
      " 77%|███████▋  | 23/30 [02:25<00:46,  6.60s/it]"
     ]
    },
    {
     "name": "stdout",
     "output_type": "stream",
     "text": [
      "y std: 1.1996588706970215\n",
      "inference mean: -0.017 inference std: 0.961\n",
      "inference mean: -0.003 inference std: 0.980\n",
      "0  groundtruth  False\n",
      "inference mean: 0.224 inference std: 1.030\n",
      "inference mean: 0.359 inference std: 1.109\n",
      "ttest mean: -0.251 ttest std: 1.090\n",
      "0 dr TtestResult(statistic=array([3.25966041]), pvalue=array([0.001312]), df=array([199]))\n",
      "1  groundtruth  True\n",
      "inference mean: -1.659 inference std: 1.538\n",
      "inference mean: -1.165 inference std: 1.706\n",
      "ttest mean: -3.083 ttest std: 4.619\n",
      "1 dr TtestResult(statistic=array([9.44161132]), pvalue=array([1.01567133e-17]), df=array([199]))\n",
      "______Corrected p values______\n",
      "       0  dr_causal_graph   dr_p_values  direct_causal_graph  direct_p_values\n",
      "X  False                1  1.967999e-03                    1         0.034011\n",
      "Z   True                1  3.047014e-17                    0         0.353773\n",
      "N_features: 2, N_data: 200\n",
      "accuracy:  0.5\n",
      "groundtruth positives:  1 false negatives:  0\n",
      "groundtruth negatives:  1 false positives:  1\n",
      "The shape of X in this case is torch.Size([200, 3])\n"
     ]
    },
    {
     "name": "stderr",
     "output_type": "stream",
     "text": [
      "DataFrame.applymap has been deprecated. Use DataFrame.map instead.\n",
      "DataFrame.applymap has been deprecated. Use DataFrame.map instead.\n",
      " 80%|████████  | 24/30 [02:30<00:36,  6.09s/it]"
     ]
    },
    {
     "name": "stdout",
     "output_type": "stream",
     "text": [
      "y std: 1.2604399919509888\n",
      "inference mean: -0.040 inference std: 1.025\n",
      "inference mean: -0.010 inference std: 0.966\n",
      "0  groundtruth  False\n",
      "inference mean: 0.021 inference std: 1.076\n",
      "inference mean: -0.015 inference std: 1.009\n",
      "ttest mean: -0.085 ttest std: 0.774\n",
      "0 dr TtestResult(statistic=array([1.54298428]), pvalue=array([0.12442329]), df=array([199]))\n",
      "1  groundtruth  True\n",
      "inference mean: -2.095 inference std: 2.038\n",
      "inference mean: -2.102 inference std: 1.591\n",
      "ttest mean: -6.099 ttest std: 7.214\n",
      "1 dr TtestResult(statistic=array([11.95569584]), pvalue=array([3.5191939e-25]), df=array([199]))\n",
      "______Corrected p values______\n",
      "       0  dr_causal_graph   dr_p_values  direct_causal_graph  direct_p_values\n",
      "X  False                0  1.866349e-01                    1         0.008519\n",
      "Z   True                1  1.055758e-24                    0         0.092222\n",
      "N_features: 2, N_data: 200\n",
      "accuracy:  1.0\n",
      "groundtruth positives:  1 false negatives:  0\n",
      "groundtruth negatives:  1 false positives:  0\n",
      "The shape of X in this case is torch.Size([200, 3])\n"
     ]
    },
    {
     "name": "stderr",
     "output_type": "stream",
     "text": [
      "DataFrame.applymap has been deprecated. Use DataFrame.map instead.\n",
      "DataFrame.applymap has been deprecated. Use DataFrame.map instead.\n",
      " 83%|████████▎ | 25/30 [02:36<00:30,  6.11s/it]"
     ]
    },
    {
     "name": "stdout",
     "output_type": "stream",
     "text": [
      "y std: 1.1696176528930664\n",
      "inference mean: -0.045 inference std: 1.015\n",
      "inference mean: 0.029 inference std: 1.002\n",
      "0  groundtruth  False\n",
      "inference mean: 0.315 inference std: 1.163\n",
      "inference mean: 0.295 inference std: 1.058\n",
      "ttest mean: -0.287 ttest std: 1.517\n",
      "0 dr TtestResult(statistic=array([2.67492706]), pvalue=array([0.00809646]), df=array([199]))\n",
      "1  groundtruth  True\n",
      "inference mean: -1.730 inference std: 1.330\n",
      "inference mean: -0.941 inference std: 1.369\n",
      "ttest mean: -1.948 ttest std: 3.346\n",
      "1 dr TtestResult(statistic=array([8.23469873]), pvalue=array([2.35517913e-14]), df=array([199]))\n",
      "______Corrected p values______\n",
      "       0  dr_causal_graph   dr_p_values  direct_causal_graph  direct_p_values\n",
      "X  False                1  1.214469e-02                    0         0.313356\n",
      "Z   True                1  7.065537e-14                    0         0.271094\n",
      "N_features: 2, N_data: 200\n",
      "accuracy:  0.5\n",
      "groundtruth positives:  1 false negatives:  0\n",
      "groundtruth negatives:  1 false positives:  1\n",
      "The shape of X in this case is torch.Size([200, 3])\n"
     ]
    },
    {
     "name": "stderr",
     "output_type": "stream",
     "text": [
      "DataFrame.applymap has been deprecated. Use DataFrame.map instead.\n",
      "DataFrame.applymap has been deprecated. Use DataFrame.map instead.\n",
      " 87%|████████▋ | 26/30 [02:41<00:23,  5.75s/it]"
     ]
    },
    {
     "name": "stdout",
     "output_type": "stream",
     "text": [
      "y std: 1.1468749046325684\n",
      "inference mean: 0.014 inference std: 1.046\n",
      "inference mean: -0.019 inference std: 0.985\n",
      "0  groundtruth  False\n",
      "inference mean: 0.150 inference std: 0.995\n",
      "inference mean: 0.138 inference std: 0.979\n",
      "ttest mean: 0.027 ttest std: 0.625\n",
      "0 dr TtestResult(statistic=array([-0.61767364]), pvalue=array([0.53749667]), df=array([199]))\n",
      "1  groundtruth  True\n",
      "inference mean: -1.558 inference std: 1.426\n",
      "inference mean: -1.147 inference std: 1.668\n",
      "ttest mean: -2.312 ttest std: 4.022\n",
      "1 dr TtestResult(statistic=array([8.12810667]), pvalue=array([4.56571674e-14]), df=array([199]))\n",
      "______Corrected p values______\n",
      "       0  dr_causal_graph   dr_p_values  direct_causal_graph  direct_p_values\n",
      "X  False                0  8.062450e-01                    1         0.015082\n",
      "Z   True                1  1.369715e-13                    0         0.760443\n",
      "N_features: 2, N_data: 200\n",
      "accuracy:  1.0\n",
      "groundtruth positives:  1 false negatives:  0\n",
      "groundtruth negatives:  1 false positives:  0\n",
      "The shape of X in this case is torch.Size([200, 3])\n"
     ]
    },
    {
     "name": "stderr",
     "output_type": "stream",
     "text": [
      "DataFrame.applymap has been deprecated. Use DataFrame.map instead.\n",
      "DataFrame.applymap has been deprecated. Use DataFrame.map instead.\n",
      " 90%|█████████ | 27/30 [02:46<00:17,  5.75s/it]"
     ]
    },
    {
     "name": "stdout",
     "output_type": "stream",
     "text": [
      "y std: 1.0546367168426514\n",
      "inference mean: 0.001 inference std: 0.872\n",
      "inference mean: -0.011 inference std: 0.868\n",
      "0  groundtruth  False\n",
      "inference mean: 0.037 inference std: 0.914\n",
      "inference mean: 0.088 inference std: 0.902\n",
      "ttest mean: -0.056 ttest std: 0.646\n",
      "0 dr TtestResult(statistic=array([1.23378476]), pvalue=array([0.2187383]), df=array([199]))\n",
      "1  groundtruth  True\n",
      "inference mean: -0.665 inference std: 1.187\n",
      "inference mean: -0.709 inference std: 1.295\n",
      "ttest mean: -1.072 ttest std: 2.054\n",
      "1 dr TtestResult(statistic=array([7.38068491]), pvalue=array([4.19460496e-12]), df=array([199]))\n",
      "______Corrected p values______\n",
      "       0  dr_causal_graph   dr_p_values  direct_causal_graph  direct_p_values\n",
      "X  False                0  3.281075e-01                    0         0.665311\n",
      "Z   True                1  1.258381e-11                    0         0.246425\n",
      "N_features: 2, N_data: 200\n",
      "accuracy:  1.0\n",
      "groundtruth positives:  1 false negatives:  0\n",
      "groundtruth negatives:  1 false positives:  0\n",
      "The shape of X in this case is torch.Size([200, 3])\n"
     ]
    },
    {
     "name": "stderr",
     "output_type": "stream",
     "text": [
      "DataFrame.applymap has been deprecated. Use DataFrame.map instead.\n",
      "DataFrame.applymap has been deprecated. Use DataFrame.map instead.\n",
      " 93%|█████████▎| 28/30 [02:54<00:12,  6.40s/it]"
     ]
    },
    {
     "name": "stdout",
     "output_type": "stream",
     "text": [
      "y std: 1.2514076232910156\n",
      "inference mean: 0.009 inference std: 1.017\n",
      "inference mean: 0.009 inference std: 1.031\n",
      "0  groundtruth  False\n",
      "inference mean: 0.293 inference std: 1.164\n",
      "inference mean: 0.176 inference std: 1.114\n",
      "ttest mean: -0.309 ttest std: 1.178\n",
      "0 dr TtestResult(statistic=array([3.70917598]), pvalue=array([0.00026968]), df=array([199]))\n",
      "1  groundtruth  True\n",
      "inference mean: -4.951 inference std: 2.800\n",
      "inference mean: -5.078 inference std: 2.336\n",
      "ttest mean: -28.386 ttest std: 25.851\n",
      "1 dr TtestResult(statistic=array([15.52904829]), pvalue=array([3.78737272e-36]), df=array([199]))\n",
      "______Corrected p values______\n",
      "       0  dr_causal_graph   dr_p_values  direct_causal_graph  direct_p_values\n",
      "X  False                1  4.045203e-04                    0         0.062266\n",
      "Z   True                1  1.136212e-35                    1         0.000453\n",
      "N_features: 2, N_data: 200\n",
      "accuracy:  0.5\n",
      "groundtruth positives:  1 false negatives:  0\n",
      "groundtruth negatives:  1 false positives:  1\n",
      "The shape of X in this case is torch.Size([200, 3])\n"
     ]
    },
    {
     "name": "stderr",
     "output_type": "stream",
     "text": [
      "DataFrame.applymap has been deprecated. Use DataFrame.map instead.\n",
      "DataFrame.applymap has been deprecated. Use DataFrame.map instead.\n",
      " 97%|█████████▋| 29/30 [03:00<00:06,  6.29s/it]"
     ]
    },
    {
     "name": "stdout",
     "output_type": "stream",
     "text": [
      "y std: 1.1612129211425781\n",
      "inference mean: 0.027 inference std: 0.949\n",
      "inference mean: 0.003 inference std: 0.946\n",
      "0  groundtruth  False\n",
      "inference mean: 0.161 inference std: 1.039\n",
      "inference mean: 0.200 inference std: 1.056\n",
      "ttest mean: -0.217 ttest std: 0.920\n",
      "0 dr TtestResult(statistic=array([3.33537387]), pvalue=array([0.00101618]), df=array([199]))\n",
      "1  groundtruth  True\n",
      "inference mean: -1.993 inference std: 1.397\n",
      "inference mean: -1.941 inference std: 1.686\n",
      "ttest mean: -4.242 ttest std: 5.421\n",
      "1 dr TtestResult(statistic=array([11.06476742]), pvalue=array([1.73392848e-22]), df=array([199]))\n",
      "______Corrected p values______\n",
      "       0  dr_causal_graph   dr_p_values  direct_causal_graph  direct_p_values\n",
      "X  False                1  1.524272e-03                    0         0.301186\n",
      "Z   True                1  5.201785e-22                    1         0.007814\n",
      "N_features: 2, N_data: 200\n",
      "accuracy:  0.5\n",
      "groundtruth positives:  1 false negatives:  0\n",
      "groundtruth negatives:  1 false positives:  1\n",
      "The shape of X in this case is torch.Size([200, 3])\n"
     ]
    },
    {
     "name": "stderr",
     "output_type": "stream",
     "text": [
      "DataFrame.applymap has been deprecated. Use DataFrame.map instead.\n",
      "DataFrame.applymap has been deprecated. Use DataFrame.map instead.\n",
      "100%|██████████| 30/30 [03:08<00:00,  6.28s/it]\n",
      "INFO:root:Counts of each selected index Counter({('X', 'Z'): 19, ('Z',): 11})\n",
      "INFO:root:Proportions of each selected index: {('X', 'Z'): 0.6333333333333333, ('Z',): 0.36666666666666664}\n"
     ]
    },
    {
     "name": "stdout",
     "output_type": "stream",
     "text": [
      "y std: 1.1623682975769043\n",
      "inference mean: -0.055 inference std: 0.989\n",
      "inference mean: -0.033 inference std: 1.011\n",
      "0  groundtruth  False\n",
      "inference mean: 0.174 inference std: 1.055\n",
      "inference mean: 0.314 inference std: 1.120\n",
      "ttest mean: -0.213 ttest std: 0.917\n",
      "0 dr TtestResult(statistic=array([3.27859573]), pvalue=array([0.00123131]), df=array([199]))\n",
      "1  groundtruth  True\n",
      "inference mean: -1.186 inference std: 1.531\n",
      "inference mean: -1.699 inference std: 1.324\n",
      "ttest mean: -2.339 ttest std: 4.051\n",
      "1 dr TtestResult(statistic=array([8.16760513]), pvalue=array([3.57424558e-14]), df=array([199]))\n",
      "______Corrected p values______\n",
      "       0  dr_causal_graph   dr_p_values  direct_causal_graph  direct_p_values\n",
      "X  False                1  1.846958e-03                    1         0.000146\n",
      "Z   True                1  1.072274e-13                    1         0.009239\n",
      "N_features: 2, N_data: 200\n",
      "accuracy:  0.5\n",
      "groundtruth positives:  1 false negatives:  0\n",
      "groundtruth negatives:  1 false positives:  1\n"
     ]
    }
   ],
   "source": [
    "graph = ToyGraph()\n",
    "seeds_int_data = 1\n",
    "n_obs = 200\n",
    "n_int = 2\n",
    "D_O, D_I, exploration_set = setup_observational_interventional(\n",
    "                                graph_type=None,\n",
    "                                seed=seeds_int_data,\n",
    "                                n_obs=n_obs,\n",
    "                                n_int=n_int,\n",
    "                                graph=graph\n",
    "                            )\n",
    "exploration_set = [(\"X\",), (\"Z\",)]\n",
    "\n",
    "# scale_data=False\n",
    "model = PARENT(graph=graph, nonlinear=True)\n",
    "model.set_values(D_O, D_I, exploration_set)\n",
    "(\n",
    "    best_y_array,\n",
    "    current_y_array,\n",
    "    cost_array,\n",
    "    intervention_set,\n",
    "    intervention_value,\n",
    "    average_uncertainty,\n",
    ") = model.run_algorithm(T=25, show_graphics=True, file=\"model_checkpoints/\")"
   ]
  },
  {
   "cell_type": "code",
   "execution_count": null,
   "metadata": {},
   "outputs": [],
   "source": [
    "graph = Graph6Nodes()\n",
    "seeds_int_data = 1\n",
    "n_obs = 200\n",
    "n_int = 2\n",
    "D_O, D_I, exploration_set = setup_observational_interventional(\n",
    "                                graph_type=None,\n",
    "                                seed=seeds_int_data,\n",
    "                                n_obs=n_obs,\n",
    "                                n_int=n_int,\n",
    "                                graph=graph\n",
    "                            )\n",
    "exploration_set = [(\"a\",), (\"S\",)]\n",
    "\n",
    "# scale_data=False\n",
    "model = PARENT(graph=graph, nonlinear=True)\n",
    "model.set_values(D_O, D_I, exploration_set)\n",
    "(\n",
    "    best_y_array,\n",
    "    current_y_array,\n",
    "    cost_array,\n",
    "    intervention_set,\n",
    "    intervention_value,\n",
    "    average_uncertainty,\n",
    ") = model.run_algorithm(T=25, show_graphics=True, file=\"model_checkpoints/\")"
   ]
  },
  {
   "cell_type": "code",
   "execution_count": 10,
   "metadata": {},
   "outputs": [
    {
     "data": {
      "text/plain": [
       "-4.03897014765492"
      ]
     },
     "execution_count": 10,
     "metadata": {},
     "output_type": "execute_result"
    }
   ],
   "source": [
    "D_O[\"Y\"].min()"
   ]
  },
  {
   "cell_type": "code",
   "execution_count": null,
   "metadata": {},
   "outputs": [],
   "source": []
  }
 ],
 "metadata": {
  "kernelspec": {
   "display_name": "Python 3",
   "language": "python",
   "name": "python3"
  },
  "language_info": {
   "codemirror_mode": {
    "name": "ipython",
    "version": 3
   },
   "file_extension": ".py",
   "mimetype": "text/x-python",
   "name": "python",
   "nbconvert_exporter": "python",
   "pygments_lexer": "ipython3",
   "version": "3.10.14"
  }
 },
 "nbformat": 4,
 "nbformat_minor": 2
}
