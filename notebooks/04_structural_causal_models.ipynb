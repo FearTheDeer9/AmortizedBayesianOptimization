{
 "cells": [
  {
   "cell_type": "markdown",
   "metadata": {},
   "source": [
    "# Structural Causal Models\n",
    "\n",
    "This notebook explores structural causal models (SCMs) and their applications in causal inference."
   ]
  },
  {
   "cell_type": "code",
   "execution_count": null,
   "metadata": {},
   "outputs": [],
   "source": [
    "# Import necessary modules\n",
    "import sys\n",
    "import os\n",
    "\n",
    "# Add the root directory to the path to make imports work\n",
    "root_dir = os.path.abspath(os.path.join(os.getcwd(), '..'))\n",
    "if root_dir not in sys.path:\n",
    "    sys.path.append(root_dir)\n",
    "\n",
    "# Import common libraries\n",
    "import numpy as np\n",
    "import matplotlib.pyplot as plt\n",
    "\n",
    "# Import the causal meta-learning library\n",
    "from causal_meta.graph import Graph, DirectedGraph, CausalGraph\n",
    "import causal_meta.graph.visualization as viz"
   ]
  },
  {
   "cell_type": "markdown",
   "metadata": {},
   "source": [
    "# Structural Causal Models\n",
    "\n",
    "This notebook demonstrates how to work with Structural Causal Models (SCMs) in the causal meta-learning library. We'll cover:\n",
    "\n",
    "1. Creating and defining SCMs\n",
    "2. Defining structural equations and mechanisms\n",
    "3. Sampling data from SCMs\n",
    "4. Performing interventions\n",
    "5. Calculating causal effects\n",
    "\n",
    "Let's get started!"
   ]
  },
  {
   "cell_type": "code",
   "execution_count": null,
   "metadata": {},
   "outputs": [],
   "source": [
    "# Import necessary modules\n",
    "import sys\n",
    "import os\n",
    "\n",
    "# Add the root directory to the path to make imports work\n",
    "root_dir = os.path.abspath(os.path.join(os.getcwd(), '..'))\n",
    "if root_dir not in sys.path:\n",
    "    sys.path.append(root_dir)\n",
    "\n",
    "# Import the necessary modules\n",
    "from causal_meta.graph import CausalGraph\n",
    "from causal_meta.environments.scm import StructuralCausalModel\n",
    "import causal_meta.graph.visualization as viz\n",
    "\n",
    "import numpy as np\n",
    "import pandas as pd\n",
    "import matplotlib.pyplot as plt\n",
    "import seaborn as sns"
   ]
  },
  {
   "cell_type": "markdown",
   "metadata": {},
   "source": [
    "## 1. Creating and Defining SCMs\n",
    "\n",
    "A Structural Causal Model (SCM) represents a system of causal relationships where each variable is determined by a function of its parent variables and some independent noise. Let's create a simple SCM."
   ]
  },
  {
   "cell_type": "code",
   "execution_count": null,
   "metadata": {},
   "outputs": [],
   "source": [
    "# Create a causal graph for our SCM\n",
    "graph = CausalGraph()\n",
    "\n",
    "# Add nodes\n",
    "graph.add_node('X')\n",
    "graph.add_node('Y')\n",
    "graph.add_node('Z')\n",
    "\n",
    "# Add edges to define the causal structure\n",
    "graph.add_edge('X', 'Y')  # X causes Y\n",
    "graph.add_edge('Z', 'X')  # Z causes X\n",
    "graph.add_edge('Z', 'Y')  # Z causes Y (directly)\n",
    "\n",
    "# Visualize the graph\n",
    "plt.figure(figsize=(8, 6))\n",
    "ax = plt.gca()\n",
    "viz.plot_causal_graph(graph, ax=ax, title=\"Causal Graph for our SCM\")\n",
    "plt.show()\n",
    "\n",
    "# Create the SCM with this causal graph\n",
    "scm = StructuralCausalModel(causal_graph=graph)\n",
    "\n",
    "# Add variables with domains\n",
    "scm.add_variable('X', domain='continuous')\n",
    "scm.add_variable('Y', domain='continuous')\n",
    "scm.add_variable('Z', domain='continuous')"
   ]
  },
  {
   "cell_type": "markdown",
   "metadata": {},
   "source": [
    "## 2. Defining Structural Equations and Mechanisms\n",
    "\n",
    "Now we need to define the structural equations that determine how each variable is influenced by its parents."
   ]
  },
  {
   "cell_type": "code",
   "execution_count": null,
   "metadata": {},
   "outputs": [],
   "source": [
    "# Define linear Gaussian structural equations\n",
    "\n",
    "# Z is an exogenous variable (no parents)\n",
    "scm.define_linear_gaussian_equation('Z', {}, intercept=0, noise_std=1.0)\n",
    "\n",
    "# X depends on Z\n",
    "scm.define_linear_gaussian_equation('X', {'Z': 0.7}, intercept=0, noise_std=0.5)\n",
    "\n",
    "# Y depends on both X and Z\n",
    "scm.define_linear_gaussian_equation('Y', {'X': 0.6, 'Z': 0.3}, intercept=0, noise_std=0.3)\n",
    "\n",
    "# Inspect the SCM\n",
    "print(scm)"
   ]
  },
  {
   "cell_type": "markdown",
   "metadata": {},
   "source": [
    "### Using Custom Structural Equations\n",
    "\n",
    "We can also define custom non-linear equations for more complex relationships."
   ]
  },
  {
   "cell_type": "code",
   "execution_count": null,
   "metadata": {},
   "outputs": [],
   "source": [
    "# Create a new SCM with non-linear relationships\n",
    "nonlinear_graph = CausalGraph()\n",
    "for node in ['X', 'Y']:\n",
    "    nonlinear_graph.add_node(node)\n",
    "nonlinear_graph.add_edge('X', 'Y')\n",
    "\n",
    "nonlinear_scm = StructuralCausalModel(causal_graph=nonlinear_graph)\n",
    "nonlinear_scm.add_variable('X', domain='continuous')\n",
    "nonlinear_scm.add_variable('Y', domain='continuous')\n",
    "\n",
    "# X is exogenous with standard normal distribution\n",
    "def x_equation(noise):\n",
    "    return noise\n",
    "\n",
    "# Y is a non-linear function of X (quadratic with noise)\n",
    "def y_equation(X, noise):\n",
    "    return 0.5 * (X ** 2) - 0.3 * X + noise\n",
    "\n",
    "# Define noise distributions\n",
    "def normal_noise(rng):\n",
    "    return rng.normal(0, 1)\n",
    "\n",
    "# Define the structural equations\n",
    "nonlinear_scm.define_probabilistic_equation('X', x_equation, normal_noise)\n",
    "nonlinear_scm.define_probabilistic_equation('Y', y_equation, lambda rng: rng.normal(0, 0.5))\n",
    "\n",
    "print(nonlinear_scm)"
   ]
  },
  {
   "cell_type": "markdown",
   "metadata": {},
   "source": [
    "## 3. Sampling Data from SCMs\n",
    "\n",
    "Once we've defined our structural equations, we can sample data from the SCM."
   ]
  },
  {
   "cell_type": "code",
   "execution_count": null,
   "metadata": {},
   "outputs": [],
   "source": [
    "# Sample data from our linear SCM\n",
    "data = scm.sample_data(1000, random_seed=42)\n",
    "\n",
    "# Display the first few rows\n",
    "print(\"Data from linear SCM:\")\n",
    "print(data.head())\n",
    "\n",
    "# Calculate the correlations\n",
    "print(\"\\nCorrelation matrix:\")\n",
    "print(data.corr().round(3))\n",
    "\n",
    "# Visualize the relationships with a pairplot\n",
    "plt.figure(figsize=(12, 10))\n",
    "sns.pairplot(data)\n",
    "plt.suptitle(\"Relationships between variables\", y=1.02)\n",
    "plt.show()"
   ]
  },
  {
   "cell_type": "code",
   "execution_count": null,
   "metadata": {},
   "outputs": [],
   "source": [
    "# Sample data from the non-linear SCM\n",
    "nonlinear_data = nonlinear_scm.sample_data(1000, random_seed=42)\n",
    "\n",
    "# Display the first few rows\n",
    "print(\"Data from non-linear SCM:\")\n",
    "print(nonlinear_data.head())\n",
    "\n",
    "# Visualize the non-linear relationship\n",
    "plt.figure(figsize=(10, 6))\n",
    "plt.scatter(nonlinear_data['X'], nonlinear_data['Y'], alpha=0.5)\n",
    "plt.title(\"Non-linear Relationship: Y = 0.5X\u00b2 - 0.3X + \u03b5\")\n",
    "plt.xlabel(\"X\")\n",
    "plt.ylabel(\"Y\")\n",
    "plt.grid(True)\n",
    "\n",
    "# Add the true functional relationship line\n",
    "x_range = np.linspace(-3, 3, 100)\n",
    "plt.plot(x_range, 0.5 * (x_range ** 2) - 0.3 * x_range, 'r-', label=\"True function\")\n",
    "plt.legend()\n",
    "plt.show()"
   ]
  },
  {
   "cell_type": "markdown",
   "metadata": {},
   "source": [
    "## 4. Performing Interventions\n",
    "\n",
    "One of the key features of SCMs is the ability to perform interventions, which allow us to model counterfactual scenarios."
   ]
  },
  {
   "cell_type": "code",
   "execution_count": null,
   "metadata": {},
   "outputs": [],
   "source": [
    "# Let's perform an intervention on X in our linear SCM\n",
    "scm.do_intervention('X', 2.0)  # Set X to a fixed value\n",
    "\n",
    "# Sample data under the intervention\n",
    "interventional_data = scm.sample_data(1000, random_seed=42)\n",
    "\n",
    "# Display the first few rows\n",
    "print(\"Interventional data with do(X=2.0):\")\n",
    "print(interventional_data.head())\n",
    "\n",
    "# Verify X has been fixed to 2.0\n",
    "print(f\"\\nMean of X: {interventional_data['X'].mean():.5f}\")\n",
    "print(f\"Standard deviation of X: {interventional_data['X'].std():.5f}\")\n",
    "\n",
    "# Reset the SCM to remove the intervention\n",
    "scm.reset()\n",
    "\n",
    "# Compare with observational data\n",
    "fig, axes = plt.subplots(1, 2, figsize=(16, 6))\n",
    "\n",
    "# Observational data\n",
    "axes[0].scatter(data['X'], data['Y'], alpha=0.5)\n",
    "axes[0].set_title(\"Observational Data\")\n",
    "axes[0].set_xlabel(\"X\")\n",
    "axes[0].set_ylabel(\"Y\")\n",
    "axes[0].grid(True)\n",
    "\n",
    "# Interventional data\n",
    "axes[1].scatter(interventional_data['X'], interventional_data['Y'], alpha=0.5)\n",
    "axes[1].set_title(\"Interventional Data with do(X=2.0)\")\n",
    "axes[1].set_xlabel(\"X\")\n",
    "axes[1].set_ylabel(\"Y\")\n",
    "axes[1].grid(True)\n",
    "\n",
    "plt.tight_layout()\n",
    "plt.show()"
   ]
  },
  {
   "cell_type": "markdown",
   "metadata": {},
   "source": [
    "### Multiple Interventions\n",
    "\n",
    "We can also perform multiple interventions simultaneously."
   ]
  },
  {
   "cell_type": "code",
   "execution_count": null,
   "metadata": {},
   "outputs": [],
   "source": [
    "# Perform multiple interventions\n",
    "scm.multiple_interventions({'X': 1.0, 'Z': -1.0})  # Set X=1.0 and Z=-1.0\n",
    "\n",
    "# Sample data under the multiple interventions\n",
    "multi_interventional_data = scm.sample_data(1000, random_seed=42)\n",
    "\n",
    "# Display the first few rows\n",
    "print(\"Data with do(X=1.0, Z=-1.0):\")\n",
    "print(multi_interventional_data.head())\n",
    "\n",
    "# Verify X and Z have been fixed\n",
    "print(f\"\\nMean of X: {multi_interventional_data['X'].mean():.5f}\")\n",
    "print(f\"Mean of Z: {multi_interventional_data['Z'].mean():.5f}\")\n",
    "\n",
    "# Reset the SCM to remove the interventions\n",
    "scm.reset()"
   ]
  },
  {
   "cell_type": "markdown",
   "metadata": {},
   "source": [
    "## 5. Calculating Causal Effects\n",
    "\n",
    "SCMs allow us to estimate causal effects by measuring how changes in one variable affect another."
   ]
  },
  {
   "cell_type": "code",
   "execution_count": null,
   "metadata": {},
   "outputs": [],
   "source": [
    "# Calculate the average causal effect of X on Y\n",
    "effect = scm.compute_effect(treatment='X', outcome='Y', \n",
    "                          treatment_value=1.0, baseline_value=0.0,\n",
    "                          sample_size=5000, random_seed=42)\n",
    "\n",
    "print(f\"Average Causal Effect of X on Y (when X changes from 0 to 1): {effect:.4f}\")\n",
    "\n",
    "# This should be close to the coefficient 0.6 that we used in the structural equation\n",
    "print(f\"True coefficient in the structural equation: 0.6\")"
   ]
  },
  {
   "cell_type": "markdown",
   "metadata": {},
   "source": [
    "### Direct and Indirect Effects\n",
    "\n",
    "We can also decompose the total causal effect into direct and indirect components."
   ]
  },
  {
   "cell_type": "code",
   "execution_count": null,
   "metadata": {},
   "outputs": [],
   "source": [
    "# Calculate the direct effect of Z on Y\n",
    "direct_effect = scm.compute_direct_effect(\n",
    "    treatment='Z', outcome='Y', \n",
    "    treatment_value=1.0, baseline_value=0.0,\n",
    "    sample_size=5000, random_seed=42\n",
    ")\n",
    "\n",
    "print(f\"Direct Effect of Z on Y: {direct_effect:.4f}\")\n",
    "print(f\"True direct effect in the structural equation: 0.3\")\n",
    "\n",
    "# Calculate the indirect effect of Z on Y through X\n",
    "indirect_effect = scm.compute_indirect_effect(\n",
    "    treatment='Z', outcome='Y', \n",
    "    treatment_value=1.0, baseline_value=0.0,\n",
    "    mediators=['X'],  # X is the mediator \n",
    "    sample_size=5000, random_seed=42\n",
    ")\n",
    "\n",
    "print(f\"\\nIndirect Effect of Z on Y through X: {indirect_effect:.4f}\")\n",
    "print(f\"Expected indirect effect: Z\u2192X coefficient \u00d7 X\u2192Y coefficient = 0.7 \u00d7 0.6 = 0.42\")\n",
    "\n",
    "# Calculate total effect\n",
    "total_effect = scm.compute_effect(\n",
    "    treatment='Z', outcome='Y', \n",
    "    treatment_value=1.0, baseline_value=0.0,\n",
    "    sample_size=5000, random_seed=42\n",
    ")\n",
    "\n",
    "print(f\"\\nTotal Effect of Z on Y: {total_effect:.4f}\")\n",
    "print(f\"Direct + Indirect Effect: {direct_effect + indirect_effect:.4f}\")"
   ]
  },
  {
   "cell_type": "markdown",
   "metadata": {},
   "source": [
    "## Visualizing Intervention Effects\n",
    "\n",
    "Let's visualize how interventions on a variable affect the distribution of an outcome."
   ]
  },
  {
   "cell_type": "code",
   "execution_count": null,
   "metadata": {},
   "outputs": [],
   "source": [
    "# Get intervention effects for a range of intervention values\n",
    "treatment = 'X'\n",
    "outcome = 'Y'\n",
    "intervention_values = np.linspace(-2, 2, 9)  # Intervention values from -2 to 2\n",
    "\n",
    "# Get the distribution of Y under each intervention\n",
    "all_data = []\n",
    "distributions = []\n",
    "\n",
    "for value in intervention_values:\n",
    "    # Perform intervention\n",
    "    scm.do_intervention(treatment, value)\n",
    "    \n",
    "    # Sample data\n",
    "    int_data = scm.sample_data(1000, random_seed=42)\n",
    "    \n",
    "    # Store the distribution of Y\n",
    "    distributions.append(int_data[outcome].values)\n",
    "    \n",
    "    # Add intervention value for plotting\n",
    "    int_data['Intervention'] = f\"{treatment}={value:.1f}\"\n",
    "    all_data.append(int_data)\n",
    "    \n",
    "    # Reset SCM\n",
    "    scm.reset()\n",
    "\n",
    "# Combine all data\n",
    "combined_data = pd.concat(all_data)\n",
    "\n",
    "# Create a boxplot to compare Y distributions across interventions\n",
    "plt.figure(figsize=(12, 6))\n",
    "sns.boxplot(x='Intervention', y=outcome, data=combined_data)\n",
    "plt.title(f\"Distribution of {outcome} under different interventions on {treatment}\")\n",
    "plt.xlabel(f\"Intervention on {treatment}\")\n",
    "plt.ylabel(outcome)\n",
    "plt.grid(True, axis='y')\n",
    "plt.xticks(rotation=45)\n",
    "plt.tight_layout()\n",
    "plt.show()"
   ]
  },
  {
   "cell_type": "markdown",
   "metadata": {},
   "source": [
    "## Counterfactual Analysis\n",
    "\n",
    "SCMs also allow us to reason about counterfactuals - what would have happened in a specific case if we had intervened differently."
   ]
  },
  {
   "cell_type": "code",
   "execution_count": null,
   "metadata": {},
   "outputs": [],
   "source": [
    "# Generate a \"factual\" observation\n",
    "scm.reset()\n",
    "factual_data = scm.sample_data(1, random_seed=42)\n",
    "print(\"Factual observation:\")\n",
    "print(factual_data)\n",
    "\n",
    "# Perform counterfactual reasoning: what would Y have been if X was set to 2.0?\n",
    "counterfactual_data = scm.evaluate_counterfactual(\n",
    "    factual_data=factual_data, \n",
    "    interventions={'X': 2.0}\n",
    ")\n",
    "\n",
    "print(\"\\nCounterfactual scenario (do(X=2.0)):\")\n",
    "print(counterfactual_data)\n",
    "\n",
    "# Calculate the difference in Y\n",
    "y_factual = factual_data['Y'].values[0]\n",
    "y_counterfactual = counterfactual_data['Y'].values[0]\n",
    "print(f\"\\nFactual Y: {y_factual:.4f}\")\n",
    "print(f\"Counterfactual Y: {y_counterfactual:.4f}\")\n",
    "print(f\"Difference: {y_counterfactual - y_factual:.4f}\")"
   ]
  },
  {
   "cell_type": "markdown",
   "metadata": {},
   "source": [
    "## Summary\n",
    "\n",
    "In this notebook, we've explored Structural Causal Models (SCMs) in the causal meta-learning library:\n",
    "\n",
    "1. We created SCMs with both linear and non-linear structural equations\n",
    "2. We sampled observational data from these models\n",
    "3. We performed interventions to simulate experimental data\n",
    "4. We calculated direct, indirect, and total causal effects\n",
    "5. We visualized how interventions affect outcome distributions\n",
    "6. We performed counterfactual analysis on specific observations\n",
    "\n",
    "SCMs provide a powerful framework for causal modeling, enabling not just observational inference but also interventional and counterfactual reasoning."
   ]
  }
 ],
 "metadata": {
  "kernelspec": {
   "display_name": "Python 3",
   "language": "python",
   "name": "python3"
  },
  "language_info": {
   "codemirror_mode": {
    "name": "ipython",
    "version": 3
   },
   "file_extension": ".py",
   "mimetype": "text/x-python",
   "name": "python",
   "nbconvert_exporter": "python",
   "pygments_lexer": "ipython3",
   "version": "3.8.10"
  }
 },
 "nbformat": 4,
 "nbformat_minor": 4
}