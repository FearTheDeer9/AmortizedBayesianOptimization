{
 "cells": [
  {
   "cell_type": "markdown",
   "metadata": {},
   "source": [
    "# Testing the posterior distribution"
   ]
  },
  {
   "cell_type": "markdown",
   "metadata": {},
   "source": [
    "Test i want to perform:\n",
    "- See if this method is sensitive to the size of $N_o$\n",
    "- See if the algorithm improves with the number of interventional samples\n",
    "- Interventional vs Observational samples\n",
    "- Vary the simulated noise levels\n",
    "- Vary the degree of edges for the graphs\n",
    "- (Maybe try different graph structures)"
   ]
  },
  {
   "cell_type": "code",
   "execution_count": null,
   "metadata": {},
   "outputs": [],
   "source": [
    "import os\n",
    "import itertools\n",
    "os.chdir(\"/vol/bitbucket/jd123/causal_bayes_opt/\")\n",
    "os.environ[\"XLA_PYTHON_CLIENT_PREALLOCATE\"] = \"false\"\n",
    "from graphs.graph_erdos_renyi import ErdosRenyiGraph\n",
    "from posterior_model.model import LinearSCMModel, NonLinearSCMModel\n",
    "from graphs.data_setup import setup_observational_interventional\n",
    "import numpy as np"
   ]
  },
  {
   "cell_type": "code",
   "execution_count": null,
   "metadata": {},
   "outputs": [
    {
     "name": "stdout",
     "output_type": "stream",
     "text": [
      "MEC SIZE: 4\n"
     ]
    },
    {
     "name": "stderr",
     "output_type": "stream",
     "text": [
      "INFO:jax._src.xla_bridge:Unable to initialize backend 'rocm': module 'jaxlib.xla_extension' has no attribute 'GpuAllocatorConfig'\n",
      "INFO:jax._src.xla_bridge:Unable to initialize backend 'tpu': INTERNAL: Failed to open libtpu.so: libtpu.so: cannot open shared object file: No such file or directory\n",
      "2024-08-17 14:24:46.433312: W external/xla/xla/service/gpu/nvptx_compiler.cc:765] The NVIDIA driver's CUDA version is 12.2 which is older than the ptxas CUDA version (12.5.40). Because the driver is older than the ptxas version, XLA is disabling parallel compilation, which may slow down compilation. You should update your NVIDIA driver or use the NVIDIA-provided CUDA forward compatibility packages.\n",
      "INFO:root:Sampling the observational data\n",
      "INFO:root:Sampling the interventional data\n",
      "WARNING:root:Subclass should implement this.\n"
     ]
    },
    {
     "name": "stdout",
     "output_type": "stream",
     "text": [
      "GT causal graph\n",
      "[[0 0 0 0 1]\n",
      " [0 0 1 0 0]\n",
      " [0 0 0 0 0]\n",
      " [0 0 0 0 0]\n",
      " [0 1 0 0 0]]\n",
      "Expected degree: 0.6\n"
     ]
    },
    {
     "data": {
      "image/png": "[encoded data removed]",
      "text/plain": [
       "<Figure size 640x480 with 1 Axes>"
      ]
     },
     "metadata": {},
     "output_type": "display_data"
    }
   ],
   "source": [
    "graph = ErdosRenyiGraph(num_nodes=10, nonlinear=False)\n",
    "D_O, D_I, _ = setup_observational_interventional(graph_type=None, n_obs=100, n_int = 2, graph=graph)\n",
    "graph.show_graphical_model()\n",
    "graph.set_target('2')"
   ]
  },
  {
   "cell_type": "code",
   "execution_count": null,
   "metadata": {},
   "outputs": [],
   "source": [
    "# Function to standardize data\n",
    "def standardize(data, mean, std):\n",
    "    return (data - mean) / std\n",
    "\n",
    "\n",
    "# Function to reverse the standardization\n",
    "def reverse_standardize(data, mean, std):\n",
    "    return (data * std) + mean\n",
    "\n",
    "\n",
    "def scale_data(D_O, D_I):\n",
    "    input_keys = [key for key in D_O.keys() if key != graph.target]\n",
    "    means = {key: np.mean(D_O[key]) for key in input_keys}\n",
    "    stds = {key: np.std(D_O[key]) for key in input_keys}\n",
    "\n",
    "    D_O_scaled = {}\n",
    "    for key in D_O:\n",
    "        if key in input_keys:\n",
    "            D_O_scaled[key] = standardize(\n",
    "                D_O[key], means[key], stds[key]\n",
    "            )\n",
    "        else:\n",
    "            D_O_scaled[key] = D_O[key]\n",
    "\n",
    "    interventions = D_I.keys()\n",
    "    D_I_scaled = {intervention: {} for intervention in interventions}\n",
    "    for intervention in interventions:\n",
    "        for key in D_I[intervention]:\n",
    "            if key in input_keys:\n",
    "                D_I_scaled[intervention][key] = standardize(\n",
    "                    D_I[intervention][key], means[key], stds[key]\n",
    "                )\n",
    "            else:\n",
    "                D_I_scaled[intervention][key] = D_I[intervention][key]\n",
    "\n",
    "    D_O_scaled = D_O_scaled\n",
    "    D_I_scaled = D_I_scaled\n",
    "    return D_O_scaled, D_I_scaled"
   ]
  },
  {
   "cell_type": "code",
   "execution_count": 21,
   "metadata": {},
   "outputs": [],
   "source": [
    "import pickle\n",
    "os.chdir(\"/vol/bitbucket/jd123/causal_bayes_opt/\")\n",
    "with open(\"results/posterior/Erdos5/run1_nonlinear_100_nint_p_1.0_D_1000_noise_None.pickle\", \"rb\") as file:\n",
    "    results = pickle.load(file)"
   ]
  },
  {
   "cell_type": "code",
   "execution_count": 22,
   "metadata": {},
   "outputs": [
    {
     "name": "stdout",
     "output_type": "stream",
     "text": [
      "{'accuracy': [0.4806863120678851, 0.4798436761750502, 0.5086326290768992, 0.5421025895160232, 0.575573534850245, 0.6025465974470774, 0.6306342069008023, 0.6523862312372223], 'precision': [0.24830971523294043, 0.27652982728465225, 0.3120394898104409, 0.3438927245756827, 0.3763584293194299, 0.4041278518306842, 0.42947619253683883, 0.451556811412249], 'recall': [0.5338210630980411, 0.5943989021322997, 0.620169683118028, 0.6436623661313888, 0.6643990730979814, 0.679502201329943, 0.6785550859017847, 0.6766921056162115], 'f1_score': [0.32504230413876156, 0.3617510342120618, 0.39567915360533207, 0.42728340536287196, 0.4580467757123685, 0.4835800938991352, 0.5021791803689725, 0.5176617496268165]}\n"
     ]
    }
   ],
   "source": [
    "print(results)"
   ]
  },
  {
   "cell_type": "code",
   "execution_count": null,
   "metadata": {},
   "outputs": [],
   "source": []
  }
 ],
 "metadata": {
  "kernelspec": {
   "display_name": "diffcbed",
   "language": "python",
   "name": "python3"
  },
  "language_info": {
   "codemirror_mode": {
    "name": "ipython",
    "version": 3
   },
   "file_extension": ".py",
   "mimetype": "text/x-python",
   "name": "python",
   "nbconvert_exporter": "python",
   "pygments_lexer": "ipython3",
   "version": "3.10.14"
  }
 },
 "nbformat": 4,
 "nbformat_minor": 2
}
