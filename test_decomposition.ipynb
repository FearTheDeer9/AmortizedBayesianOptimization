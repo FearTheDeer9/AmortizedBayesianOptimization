{
 "cells": [
  {
   "cell_type": "markdown",
   "metadata": {},
   "source": [
    "# Test the uncertainty decomposition"
   ]
  },
  {
   "cell_type": "code",
   "execution_count": 1,
   "metadata": {},
   "outputs": [
    {
     "name": "stderr",
     "output_type": "stream",
     "text": [
      "INFO:numexpr.utils:Note: NumExpr detected 10 cores but \"NUMEXPR_MAX_THREADS\" not set, so enforcing safe limit of 8.\n",
      "INFO:numexpr.utils:NumExpr defaulting to 8 threads.\n",
      " /Users/jeandurand/Documents/Masters Thesis/causal_bayes_opt/ceo_venv/lib/python3.10/site-packages/tqdm/auto.py:21: TqdmWarning:IProgress not found. Please update jupyter and ipywidgets. See https://ipywidgets.readthedocs.io/en/stable/user_install.html\n"
     ]
    }
   ],
   "source": [
    "from typing import Tuple\n",
    "import numpy as np\n",
    "from graphs.graph_6_nodes import Graph6Nodes\n",
    "from graphs.data_setup import setup_observational_interventional\n",
    "import matplotlib.pyplot as plt"
   ]
  },
  {
   "cell_type": "code",
   "execution_count": 15,
   "metadata": {},
   "outputs": [],
   "source": [
    "D_O, D_I, exploration_set = setup_observational_interventional(\n",
    "                                graph_type=\"Graph6\",\n",
    "                                seed=18,\n",
    "                                n_obs=200,\n",
    "                                n_int=2,\n",
    "                            )"
   ]
  },
  {
   "cell_type": "code",
   "execution_count": 16,
   "metadata": {},
   "outputs": [],
   "source": [
    "all_graph_edges = [\n",
    "    [\n",
    "        (\"A\", \"B\"),\n",
    "        (\"A\", \"C\"),\n",
    "        (\"A\", \"S\"),\n",
    "        (\"A\", \"As\"),\n",
    "        (\"A\", \"Y\"),\n",
    "        (\"B\", \"As\"),\n",
    "        (\"B\", \"C\"),\n",
    "        (\"B\", \"S\"),\n",
    "        (\"B\", \"Y\"),\n",
    "        (\"As\", \"C\"),\n",
    "        (\"As\", \"Y\"),\n",
    "        (\"S\", \"C\"),\n",
    "        (\"S\", \"Y\"),\n",
    "        (\"C\", \"Y\"),\n",
    "    ],\n",
    "    [\n",
    "        (\"A\", \"B\"),\n",
    "        (\"A\", \"C\"),\n",
    "        (\"A\", \"S\"),\n",
    "        (\"A\", \"As\"),\n",
    "        (\"A\", \"Y\"),\n",
    "        (\"B\", \"As\"),\n",
    "        (\"B\", \"C\"),\n",
    "        (\"B\", \"S\"),\n",
    "        (\"B\", \"Y\"),\n",
    "        (\"As\", \"C\"),\n",
    "        # (\"As\", \"Y\"),\n",
    "        (\"S\", \"C\"),\n",
    "        (\"S\", \"Y\"),\n",
    "        (\"C\", \"Y\"),\n",
    "    ],\n",
    "    [\n",
    "        (\"A\", \"B\"),\n",
    "        (\"A\", \"C\"),\n",
    "        (\"A\", \"S\"),\n",
    "        (\"A\", \"As\"),\n",
    "        (\"A\", \"Y\"),\n",
    "        (\"B\", \"As\"),\n",
    "        (\"B\", \"C\"),\n",
    "        (\"B\", \"S\"),\n",
    "        (\"B\", \"Y\"),\n",
    "        (\"As\", \"C\"),\n",
    "        (\"As\", \"Y\"),\n",
    "        (\"S\", \"C\"),\n",
    "        # (\"S\", \"Y\"),\n",
    "        (\"C\", \"Y\"),\n",
    "    ],\n",
    "    [\n",
    "        (\"A\", \"B\"),\n",
    "        (\"A\", \"C\"),\n",
    "        (\"A\", \"S\"),\n",
    "        (\"A\", \"As\"),\n",
    "        (\"A\", \"Y\"),\n",
    "        (\"B\", \"As\"),\n",
    "        (\"B\", \"C\"),\n",
    "        (\"B\", \"S\"),\n",
    "        (\"B\", \"Y\"),\n",
    "        (\"As\", \"C\"),\n",
    "        # (\"As\", \"Y\"),\n",
    "        (\"S\", \"C\"),\n",
    "        # (\"S\", \"Y\"),\n",
    "        (\"C\", \"Y\"),\n",
    "    ],\n",
    "    [\n",
    "        (\"A\", \"B\"),\n",
    "        (\"A\", \"C\"),\n",
    "        (\"A\", \"S\"),\n",
    "        (\"A\", \"As\"),\n",
    "        # (\"A\", \"Y\"),\n",
    "        (\"B\", \"As\"),\n",
    "        (\"B\", \"C\"),\n",
    "        (\"B\", \"S\"),\n",
    "        # (\"B\", \"Y\"),\n",
    "        (\"As\", \"C\"),\n",
    "        (\"As\", \"Y\"),\n",
    "        (\"S\", \"C\"),\n",
    "        (\"S\", \"Y\"),\n",
    "        (\"C\", \"Y\"),\n",
    "    ],\n",
    "]"
   ]
  },
  {
   "cell_type": "code",
   "execution_count": 17,
   "metadata": {},
   "outputs": [
    {
     "name": "stderr",
     "output_type": "stream",
     "text": [
      "INFO:GP:initializing Y\n",
      "INFO:GP:initializing inference method\n",
      "INFO:GP:adding kernel and likelihood as parameters\n",
      "INFO:root:SAFE OPTIMIZATION: resetting likelihood var to lower bound\n",
      "INFO:GP:initializing Y\n",
      "INFO:GP:initializing inference method\n",
      "INFO:GP:adding kernel and likelihood as parameters\n",
      "INFO:root:SAFE OPTIMZATION: Resetting kernel lenghtscale\n",
      "INFO:root:SAFE OPTIMIZATION: resetting likelihood var to lower bound\n",
      "INFO:GP:initializing Y\n",
      "INFO:GP:initializing inference method\n",
      "INFO:GP:adding kernel and likelihood as parameters\n",
      "INFO:root:SAFE OPTIMZATION: Resetting kernel lenghtscale\n",
      "INFO:root:SAFE OPTIMIZATION: resetting likelihood var to lower bound\n",
      "INFO:GP:initializing Y\n",
      "INFO:GP:initializing inference method\n",
      "INFO:GP:adding kernel and likelihood as parameters\n",
      "INFO:root:SAFE OPTIMZATION: Resetting kernel lenghtscale\n",
      "INFO:GP:initializing Y\n",
      "INFO:GP:initializing inference method\n",
      "INFO:GP:adding kernel and likelihood as parameters\n",
      "INFO:root:SAFE OPTIMZATION: Resetting kernel lenghtscale\n"
     ]
    },
    {
     "data": {
      "text/plain": [
       "{'aleatoric': 25.414452079778165, 'epistemic': 10.659481798755943}"
      ]
     },
     "execution_count": 17,
     "metadata": {},
     "output_type": "execute_result"
    }
   ],
   "source": [
    "graph = Graph6Nodes()\n",
    "graph.mispecify_graph(all_graph_edges[0])\n",
    "graph.fit_samples_to_graph(D_O)\n",
    "graph.decompose_all_variance(D_O)"
   ]
  },
  {
   "cell_type": "code",
   "execution_count": 18,
   "metadata": {},
   "outputs": [
    {
     "name": "stderr",
     "output_type": "stream",
     "text": [
      "INFO:GP:initializing Y\n",
      "INFO:GP:initializing inference method\n",
      "INFO:GP:adding kernel and likelihood as parameters\n",
      "INFO:root:SAFE OPTIMIZATION: resetting likelihood var to lower bound\n",
      "INFO:GP:initializing Y\n",
      "INFO:GP:initializing inference method\n",
      "INFO:GP:adding kernel and likelihood as parameters\n",
      "INFO:root:SAFE OPTIMZATION: Resetting kernel lenghtscale\n",
      "INFO:root:SAFE OPTIMIZATION: resetting likelihood var to lower bound\n",
      "INFO:GP:initializing Y\n",
      "INFO:GP:initializing inference method\n",
      "INFO:GP:adding kernel and likelihood as parameters\n",
      "INFO:root:SAFE OPTIMZATION: Resetting kernel lenghtscale\n",
      "INFO:root:SAFE OPTIMIZATION: resetting likelihood var to lower bound\n",
      "INFO:GP:initializing Y\n",
      "INFO:GP:initializing inference method\n",
      "INFO:GP:adding kernel and likelihood as parameters\n",
      "INFO:root:SAFE OPTIMZATION: Resetting kernel lenghtscale\n",
      "INFO:GP:initializing Y\n",
      "INFO:GP:initializing inference method\n",
      "INFO:GP:adding kernel and likelihood as parameters\n",
      "INFO:root:SAFE OPTIMZATION: Resetting kernel lenghtscale\n"
     ]
    },
    {
     "data": {
      "text/plain": [
       "{'aleatoric': 20.687487250175167, 'epistemic': 4.925954536928979}"
      ]
     },
     "execution_count": 18,
     "metadata": {},
     "output_type": "execute_result"
    }
   ],
   "source": [
    "graph = Graph6Nodes()\n",
    "graph.mispecify_graph(all_graph_edges[1])\n",
    "graph.fit_samples_to_graph(D_O)\n",
    "graph.decompose_all_variance(D_O)"
   ]
  },
  {
   "cell_type": "code",
   "execution_count": 19,
   "metadata": {},
   "outputs": [
    {
     "name": "stderr",
     "output_type": "stream",
     "text": [
      "INFO:GP:initializing Y\n",
      "INFO:GP:initializing inference method\n",
      "INFO:GP:adding kernel and likelihood as parameters\n",
      "INFO:root:SAFE OPTIMIZATION: resetting likelihood var to lower bound\n",
      "INFO:GP:initializing Y\n",
      "INFO:GP:initializing inference method\n",
      "INFO:GP:adding kernel and likelihood as parameters\n",
      "INFO:root:SAFE OPTIMZATION: Resetting kernel lenghtscale\n",
      "INFO:root:SAFE OPTIMIZATION: resetting likelihood var to lower bound\n",
      "INFO:GP:initializing Y\n",
      "INFO:GP:initializing inference method\n",
      "INFO:GP:adding kernel and likelihood as parameters\n",
      "INFO:root:SAFE OPTIMZATION: Resetting kernel lenghtscale\n",
      "INFO:root:SAFE OPTIMIZATION: resetting likelihood var to lower bound\n",
      "INFO:GP:initializing Y\n",
      "INFO:GP:initializing inference method\n",
      "INFO:GP:adding kernel and likelihood as parameters\n",
      "INFO:root:SAFE OPTIMZATION: Resetting kernel lenghtscale\n",
      "INFO:GP:initializing Y\n",
      "INFO:GP:initializing inference method\n",
      "INFO:GP:adding kernel and likelihood as parameters\n",
      "INFO:root:SAFE OPTIMZATION: Resetting kernel lenghtscale\n"
     ]
    },
    {
     "data": {
      "text/plain": [
       "{'aleatoric': 21.968213957446732, 'epistemic': 5.743055672880968}"
      ]
     },
     "execution_count": 19,
     "metadata": {},
     "output_type": "execute_result"
    }
   ],
   "source": [
    "graph = Graph6Nodes()\n",
    "graph.mispecify_graph(all_graph_edges[2])\n",
    "graph.fit_samples_to_graph(D_O)\n",
    "graph.decompose_all_variance(D_O)"
   ]
  },
  {
   "cell_type": "code",
   "execution_count": 20,
   "metadata": {},
   "outputs": [
    {
     "name": "stderr",
     "output_type": "stream",
     "text": [
      "INFO:GP:initializing Y\n",
      "INFO:GP:initializing inference method\n",
      "INFO:GP:adding kernel and likelihood as parameters\n",
      "INFO:root:SAFE OPTIMIZATION: resetting likelihood var to lower bound\n",
      "INFO:GP:initializing Y\n",
      "INFO:GP:initializing inference method\n",
      "INFO:GP:adding kernel and likelihood as parameters\n",
      "INFO:root:SAFE OPTIMZATION: Resetting kernel lenghtscale\n",
      "INFO:root:SAFE OPTIMIZATION: resetting likelihood var to lower bound\n",
      "INFO:GP:initializing Y\n",
      "INFO:GP:initializing inference method\n",
      "INFO:GP:adding kernel and likelihood as parameters\n",
      "INFO:root:SAFE OPTIMZATION: Resetting kernel lenghtscale\n",
      "INFO:root:SAFE OPTIMIZATION: resetting likelihood var to lower bound\n",
      "INFO:GP:initializing Y\n",
      "INFO:GP:initializing inference method\n",
      "INFO:GP:adding kernel and likelihood as parameters\n",
      "INFO:root:SAFE OPTIMZATION: Resetting kernel lenghtscale\n",
      "INFO:GP:initializing Y\n",
      "INFO:GP:initializing inference method\n",
      "INFO:GP:adding kernel and likelihood as parameters\n",
      "INFO:root:SAFE OPTIMZATION: Resetting kernel lenghtscale\n"
     ]
    },
    {
     "data": {
      "text/plain": [
       "{'aleatoric': 17.024689355212146, 'epistemic': 0.009197173070814621}"
      ]
     },
     "execution_count": 20,
     "metadata": {},
     "output_type": "execute_result"
    }
   ],
   "source": [
    "graph = Graph6Nodes()\n",
    "graph.mispecify_graph(all_graph_edges[3])\n",
    "graph.fit_samples_to_graph(D_O)\n",
    "graph.decompose_all_variance(D_O)"
   ]
  },
  {
   "cell_type": "code",
   "execution_count": 21,
   "metadata": {},
   "outputs": [
    {
     "name": "stderr",
     "output_type": "stream",
     "text": [
      "INFO:GP:initializing Y\n",
      "INFO:GP:initializing inference method\n",
      "INFO:GP:adding kernel and likelihood as parameters\n",
      "INFO:root:SAFE OPTIMIZATION: resetting likelihood var to lower bound\n",
      "INFO:GP:initializing Y\n",
      "INFO:GP:initializing inference method\n",
      "INFO:GP:adding kernel and likelihood as parameters\n",
      "INFO:root:SAFE OPTIMZATION: Resetting kernel lenghtscale\n",
      "INFO:root:SAFE OPTIMIZATION: resetting likelihood var to lower bound\n",
      "INFO:GP:initializing Y\n",
      "INFO:GP:initializing inference method\n",
      "INFO:GP:adding kernel and likelihood as parameters\n",
      "INFO:root:SAFE OPTIMZATION: Resetting kernel lenghtscale\n",
      "INFO:root:SAFE OPTIMIZATION: resetting likelihood var to lower bound\n",
      "INFO:GP:initializing Y\n",
      "INFO:GP:initializing inference method\n",
      "INFO:GP:adding kernel and likelihood as parameters\n",
      "INFO:GP:initializing Y\n",
      "INFO:GP:initializing inference method\n",
      "INFO:GP:adding kernel and likelihood as parameters\n",
      "INFO:root:SAFE OPTIMZATION: Resetting kernel lenghtscale\n"
     ]
    },
    {
     "data": {
      "text/plain": [
       "{'aleatoric': 1.2027343353167632, 'epistemic': 0.8121543729697519}"
      ]
     },
     "execution_count": 21,
     "metadata": {},
     "output_type": "execute_result"
    }
   ],
   "source": [
    "graph = Graph6Nodes()\n",
    "graph.mispecify_graph(all_graph_edges[4])\n",
    "graph.fit_samples_to_graph(D_O)\n",
    "graph.decompose_all_variance(D_O)"
   ]
  },
  {
   "cell_type": "code",
   "execution_count": 22,
   "metadata": {},
   "outputs": [
    {
     "name": "stdout",
     "output_type": "stream",
     "text": [
      "0.888837558209457 2.0183430639821642\n"
     ]
    }
   ],
   "source": [
    "from utils.sem_sampling import sample_model\n",
    "graph6 = Graph6Nodes()\n",
    "_, _, manipulative_variables = graph6.get_sets()\n",
    "variables = graph6.variables\n",
    "epistemic_uncertainty = 0\n",
    "aleatoric_uncertainty = 0\n",
    "for current_var in variables:\n",
    "    parents = graph6.parents[current_var]\n",
    "    if parents:\n",
    "        for i, var in enumerate(parents):\n",
    "            min_var = np.min(D_O[var])\n",
    "            max_var = np.max(D_O[var])\n",
    "            vals = np.linspace(start=min_var, stop=max_var, num=100)\n",
    "            variance = np.zeros(shape=100)\n",
    "            for j, val in enumerate(vals):\n",
    "                intervention = {var: val}\n",
    "                samples = sample_model(graph6.SEM, graph=graph6, interventions=intervention, sample_count=100)\n",
    "                variance[j] = np.var(samples[current_var])\n",
    "            if var in manipulative_variables:\n",
    "                epistemic_uncertainty += np.mean(variance)\n",
    "            else:\n",
    "                aleatoric_uncertainty += np.mean(variance)\n",
    "\n",
    "print(epistemic_uncertainty, aleatoric_uncertainty)"
   ]
  },
  {
   "cell_type": "code",
   "execution_count": 23,
   "metadata": {},
   "outputs": [],
   "source": [
    "all_graph_edges = [\n",
    "    [\n",
    "        (\"A\", \"B\"),\n",
    "        (\"A\", \"C\"),\n",
    "        (\"A\", \"S\"),\n",
    "        (\"A\", \"As\"),\n",
    "        (\"A\", \"Y\"),\n",
    "        (\"B\", \"As\"),\n",
    "        (\"B\", \"C\"),\n",
    "        (\"B\", \"S\"),\n",
    "        (\"B\", \"Y\"),\n",
    "        (\"As\", \"C\"),\n",
    "        (\"As\", \"Y\"),\n",
    "        (\"S\", \"C\"),\n",
    "        (\"S\", \"Y\"),\n",
    "        (\"C\", \"Y\"),\n",
    "    ],\n",
    "    [\n",
    "        # (\"A\", \"B\"),\n",
    "        (\"A\", \"C\"),\n",
    "        (\"A\", \"S\"),\n",
    "        (\"A\", \"As\"),\n",
    "        (\"A\", \"Y\"),\n",
    "        (\"B\", \"As\"),\n",
    "        (\"B\", \"C\"),\n",
    "        (\"B\", \"S\"),\n",
    "        (\"B\", \"Y\"),\n",
    "        (\"As\", \"C\"),\n",
    "        (\"As\", \"Y\"),\n",
    "        (\"S\", \"C\"),\n",
    "        (\"S\", \"Y\"),\n",
    "        (\"C\", \"Y\"),\n",
    "    ],\n",
    "    [\n",
    "        (\"A\", \"B\"),\n",
    "        # (\"A\", \"C\"),\n",
    "        (\"A\", \"S\"),\n",
    "        (\"A\", \"As\"),\n",
    "        (\"A\", \"Y\"),\n",
    "        (\"B\", \"As\"),\n",
    "        (\"B\", \"C\"),\n",
    "        (\"B\", \"S\"),\n",
    "        (\"B\", \"Y\"),\n",
    "        (\"As\", \"C\"),\n",
    "        (\"As\", \"Y\"),\n",
    "        (\"S\", \"C\"),\n",
    "        (\"S\", \"Y\"),\n",
    "        (\"C\", \"Y\"),\n",
    "    ],\n",
    "    [\n",
    "        (\"A\", \"B\"),\n",
    "        (\"A\", \"C\"),\n",
    "        (\"A\", \"S\"),\n",
    "        (\"A\", \"As\"),\n",
    "        (\"A\", \"Y\"),\n",
    "        (\"B\", \"As\"),\n",
    "        # (\"B\", \"C\"),\n",
    "        (\"B\", \"S\"),\n",
    "        (\"B\", \"Y\"),\n",
    "        (\"As\", \"C\"),\n",
    "        (\"As\", \"Y\"),\n",
    "        (\"S\", \"C\"),\n",
    "        (\"S\", \"Y\"),\n",
    "        (\"C\", \"Y\"),\n",
    "    ],\n",
    "    [\n",
    "        (\"A\", \"B\"),\n",
    "        (\"A\", \"C\"),\n",
    "        (\"A\", \"S\"),\n",
    "        (\"A\", \"As\"),\n",
    "        # (\"A\", \"Y\"),\n",
    "        (\"B\", \"As\"),\n",
    "        (\"B\", \"C\"),\n",
    "        (\"B\", \"S\"),\n",
    "        (\"B\", \"Y\"),\n",
    "        (\"As\", \"C\"),\n",
    "        (\"As\", \"Y\"),\n",
    "        (\"S\", \"C\"),\n",
    "        (\"S\", \"Y\"),\n",
    "        (\"C\", \"Y\"),\n",
    "    ],\n",
    "    [\n",
    "        (\"A\", \"B\"),\n",
    "        (\"A\", \"C\"),\n",
    "        (\"A\", \"S\"),\n",
    "        (\"A\", \"As\"),\n",
    "        (\"A\", \"Y\"),\n",
    "        (\"B\", \"As\"),\n",
    "        (\"B\", \"C\"),\n",
    "        (\"B\", \"S\"),\n",
    "        # (\"B\", \"Y\"),\n",
    "        (\"As\", \"C\"),\n",
    "        (\"As\", \"Y\"),\n",
    "        (\"S\", \"C\"),\n",
    "        (\"S\", \"Y\"),\n",
    "        (\"C\", \"Y\"),\n",
    "    ],\n",
    "]\n"
   ]
  },
  {
   "cell_type": "code",
   "execution_count": 24,
   "metadata": {},
   "outputs": [
    {
     "name": "stderr",
     "output_type": "stream",
     "text": [
      "INFO:GP:initializing Y\n",
      "INFO:GP:initializing inference method\n",
      "INFO:GP:adding kernel and likelihood as parameters\n",
      "INFO:root:SAFE OPTIMIZATION: resetting likelihood var to lower bound\n",
      "INFO:GP:initializing Y\n",
      "INFO:GP:initializing inference method\n",
      "INFO:GP:adding kernel and likelihood as parameters\n",
      "INFO:root:SAFE OPTIMZATION: Resetting kernel lenghtscale\n",
      "INFO:root:SAFE OPTIMIZATION: resetting likelihood var to lower bound\n",
      "INFO:GP:initializing Y\n",
      "INFO:GP:initializing inference method\n",
      "INFO:GP:adding kernel and likelihood as parameters\n",
      "INFO:root:SAFE OPTIMZATION: Resetting kernel lenghtscale\n",
      "INFO:root:SAFE OPTIMIZATION: resetting likelihood var to lower bound\n",
      "INFO:GP:initializing Y\n",
      "INFO:GP:initializing inference method\n",
      "INFO:GP:adding kernel and likelihood as parameters\n",
      "INFO:root:SAFE OPTIMZATION: Resetting kernel lenghtscale\n",
      "INFO:GP:initializing Y\n",
      "INFO:GP:initializing inference method\n",
      "INFO:GP:adding kernel and likelihood as parameters\n",
      "INFO:root:SAFE OPTIMZATION: Resetting kernel lenghtscale\n"
     ]
    },
    {
     "name": "stdout",
     "output_type": "stream",
     "text": [
      "{'aleatoric': 25.414452079778165, 'epistemic': 10.659481798755943}\n",
      "36.073933878534106\n"
     ]
    }
   ],
   "source": [
    "graph = Graph6Nodes()\n",
    "graph.mispecify_graph(all_graph_edges[0])\n",
    "graph.fit_samples_to_graph(D_O)\n",
    "graph.decompose_target_variance(D_O)\n",
    "uncertanties = graph.decompose_all_variance(D_O)\n",
    "\n",
    "print(uncertanties)\n",
    "print(uncertanties['epistemic'] + uncertanties['aleatoric'])"
   ]
  },
  {
   "cell_type": "code",
   "execution_count": 25,
   "metadata": {},
   "outputs": [
    {
     "name": "stderr",
     "output_type": "stream",
     "text": [
      "INFO:GP:initializing Y\n",
      "INFO:GP:initializing inference method\n",
      "INFO:GP:adding kernel and likelihood as parameters\n",
      "INFO:root:SAFE OPTIMIZATION: resetting likelihood var to lower bound\n",
      "INFO:GP:initializing Y\n",
      "INFO:GP:initializing inference method\n",
      "INFO:GP:adding kernel and likelihood as parameters\n",
      "INFO:root:SAFE OPTIMZATION: Resetting kernel lenghtscale\n",
      "INFO:root:SAFE OPTIMIZATION: resetting likelihood var to lower bound\n",
      "INFO:GP:initializing Y\n",
      "INFO:GP:initializing inference method\n",
      "INFO:GP:adding kernel and likelihood as parameters\n",
      "INFO:root:SAFE OPTIMZATION: Resetting kernel lenghtscale\n",
      "INFO:root:SAFE OPTIMIZATION: resetting likelihood var to lower bound\n",
      "INFO:GP:initializing Y\n",
      "INFO:GP:initializing inference method\n",
      "INFO:GP:adding kernel and likelihood as parameters\n",
      "INFO:root:SAFE OPTIMZATION: Resetting kernel lenghtscale\n"
     ]
    },
    {
     "name": "stdout",
     "output_type": "stream",
     "text": [
      "{'aleatoric': 24.630363875201223, 'epistemic': 10.659481798755943}\n",
      "35.28984567395717\n"
     ]
    }
   ],
   "source": [
    "graph = Graph6Nodes()\n",
    "graph.mispecify_graph(all_graph_edges[1])\n",
    "graph.fit_samples_to_graph(D_O)\n",
    "graph.decompose_target_variance(D_O)\n",
    "uncertanties = graph.decompose_all_variance(D_O)\n",
    "\n",
    "print(uncertanties)\n",
    "print(uncertanties['epistemic'] + uncertanties['aleatoric'])"
   ]
  },
  {
   "cell_type": "code",
   "execution_count": 26,
   "metadata": {},
   "outputs": [
    {
     "name": "stderr",
     "output_type": "stream",
     "text": [
      "INFO:GP:initializing Y\n",
      "INFO:GP:initializing inference method\n",
      "INFO:GP:adding kernel and likelihood as parameters\n",
      "INFO:root:SAFE OPTIMIZATION: resetting likelihood var to lower bound\n",
      "INFO:GP:initializing Y\n",
      "INFO:GP:initializing inference method\n",
      "INFO:GP:adding kernel and likelihood as parameters\n",
      "INFO:root:SAFE OPTIMZATION: Resetting kernel lenghtscale\n",
      "INFO:root:SAFE OPTIMIZATION: resetting likelihood var to lower bound\n",
      "INFO:GP:initializing Y\n",
      "INFO:GP:initializing inference method\n",
      "INFO:GP:adding kernel and likelihood as parameters\n",
      "INFO:root:SAFE OPTIMIZATION: resetting likelihood var to lower bound\n",
      "INFO:GP:initializing Y\n",
      "INFO:GP:initializing inference method\n",
      "INFO:GP:adding kernel and likelihood as parameters\n",
      "INFO:root:SAFE OPTIMZATION: Resetting kernel lenghtscale\n",
      "INFO:GP:initializing Y\n",
      "INFO:GP:initializing inference method\n",
      "INFO:GP:adding kernel and likelihood as parameters\n",
      "INFO:root:SAFE OPTIMZATION: Resetting kernel lenghtscale\n"
     ]
    },
    {
     "name": "stdout",
     "output_type": "stream",
     "text": [
      "{'aleatoric': 26.87939115568366, 'epistemic': 42.708360595056945}\n",
      "69.58775175074061\n"
     ]
    }
   ],
   "source": [
    "graph = Graph6Nodes()\n",
    "graph.mispecify_graph(all_graph_edges[2])\n",
    "graph.fit_samples_to_graph(D_O)\n",
    "graph.decompose_target_variance(D_O)\n",
    "\n",
    "uncertanties = graph.decompose_all_variance(D_O)\n",
    "\n",
    "print(uncertanties)\n",
    "print(uncertanties['epistemic'] + uncertanties['aleatoric'])"
   ]
  },
  {
   "cell_type": "code",
   "execution_count": 27,
   "metadata": {},
   "outputs": [
    {
     "name": "stderr",
     "output_type": "stream",
     "text": [
      "INFO:GP:initializing Y\n",
      "INFO:GP:initializing inference method\n",
      "INFO:GP:adding kernel and likelihood as parameters\n",
      "INFO:root:SAFE OPTIMIZATION: resetting likelihood var to lower bound\n",
      "INFO:GP:initializing Y\n",
      "INFO:GP:initializing inference method\n",
      "INFO:GP:adding kernel and likelihood as parameters\n",
      "INFO:root:SAFE OPTIMZATION: Resetting kernel lenghtscale\n",
      "INFO:root:SAFE OPTIMIZATION: resetting likelihood var to lower bound\n",
      "INFO:GP:initializing Y\n",
      "INFO:GP:initializing inference method\n",
      "INFO:GP:adding kernel and likelihood as parameters\n",
      "INFO:root:SAFE OPTIMZATION: Resetting kernel lenghtscale\n",
      "INFO:root:SAFE OPTIMIZATION: resetting likelihood var to lower bound\n",
      "INFO:GP:initializing Y\n",
      "INFO:GP:initializing inference method\n",
      "INFO:GP:adding kernel and likelihood as parameters\n",
      "INFO:root:SAFE OPTIMZATION: Resetting kernel lenghtscale\n",
      "INFO:GP:initializing Y\n",
      "INFO:GP:initializing inference method\n",
      "INFO:GP:adding kernel and likelihood as parameters\n",
      "INFO:root:SAFE OPTIMZATION: Resetting kernel lenghtscale\n"
     ]
    },
    {
     "name": "stdout",
     "output_type": "stream",
     "text": [
      "{'aleatoric': 27.34335594930712, 'epistemic': 13.094337869800528}\n",
      "40.43769381910765\n"
     ]
    }
   ],
   "source": [
    "graph = Graph6Nodes()\n",
    "graph.mispecify_graph(all_graph_edges[3])\n",
    "graph.fit_samples_to_graph(D_O)\n",
    "graph.decompose_target_variance(D_O)\n",
    "uncertanties = graph.decompose_all_variance(D_O)\n",
    "\n",
    "print(uncertanties)\n",
    "print(uncertanties['epistemic'] + uncertanties['aleatoric'])"
   ]
  },
  {
   "cell_type": "code",
   "execution_count": 28,
   "metadata": {},
   "outputs": [
    {
     "name": "stderr",
     "output_type": "stream",
     "text": [
      "INFO:GP:initializing Y\n",
      "INFO:GP:initializing inference method\n",
      "INFO:GP:adding kernel and likelihood as parameters\n",
      "INFO:root:SAFE OPTIMIZATION: resetting likelihood var to lower bound\n",
      "INFO:GP:initializing Y\n",
      "INFO:GP:initializing inference method\n",
      "INFO:GP:adding kernel and likelihood as parameters\n",
      "INFO:root:SAFE OPTIMZATION: Resetting kernel lenghtscale\n",
      "INFO:root:SAFE OPTIMIZATION: resetting likelihood var to lower bound\n",
      "INFO:GP:initializing Y\n",
      "INFO:GP:initializing inference method\n",
      "INFO:GP:adding kernel and likelihood as parameters\n",
      "INFO:root:SAFE OPTIMZATION: Resetting kernel lenghtscale\n",
      "INFO:root:SAFE OPTIMIZATION: resetting likelihood var to lower bound\n",
      "INFO:GP:initializing Y\n",
      "INFO:GP:initializing inference method\n",
      "INFO:GP:adding kernel and likelihood as parameters\n",
      "INFO:root:SAFE OPTIMZATION: Resetting kernel lenghtscale\n",
      "INFO:GP:initializing Y\n",
      "INFO:GP:initializing inference method\n",
      "INFO:GP:adding kernel and likelihood as parameters\n",
      "INFO:root:SAFE OPTIMZATION: Resetting kernel lenghtscale\n"
     ]
    },
    {
     "name": "stdout",
     "output_type": "stream",
     "text": [
      "{'aleatoric': 2.878329532887626, 'epistemic': 6.001548496241388}\n",
      "8.879878029129014\n"
     ]
    }
   ],
   "source": [
    "graph = Graph6Nodes()\n",
    "graph.mispecify_graph(all_graph_edges[4])\n",
    "graph.fit_samples_to_graph(D_O)\n",
    "graph.decompose_target_variance(D_O)\n",
    "uncertanties = graph.decompose_all_variance(D_O)\n",
    "\n",
    "print(uncertanties)\n",
    "print(uncertanties['epistemic'] + uncertanties['aleatoric'])"
   ]
  },
  {
   "cell_type": "code",
   "execution_count": 29,
   "metadata": {},
   "outputs": [
    {
     "name": "stderr",
     "output_type": "stream",
     "text": [
      "INFO:GP:initializing Y\n",
      "INFO:GP:initializing inference method\n",
      "INFO:GP:adding kernel and likelihood as parameters\n",
      "INFO:root:SAFE OPTIMIZATION: resetting likelihood var to lower bound\n",
      "INFO:GP:initializing Y\n",
      "INFO:GP:initializing inference method\n",
      "INFO:GP:adding kernel and likelihood as parameters\n",
      "INFO:root:SAFE OPTIMZATION: Resetting kernel lenghtscale\n",
      "INFO:root:SAFE OPTIMIZATION: resetting likelihood var to lower bound\n",
      "INFO:GP:initializing Y\n",
      "INFO:GP:initializing inference method\n",
      "INFO:GP:adding kernel and likelihood as parameters\n",
      "INFO:root:SAFE OPTIMZATION: Resetting kernel lenghtscale\n",
      "INFO:root:SAFE OPTIMIZATION: resetting likelihood var to lower bound\n",
      "INFO:GP:initializing Y\n",
      "INFO:GP:initializing inference method\n",
      "INFO:GP:adding kernel and likelihood as parameters\n",
      " /Users/jeandurand/Documents/Masters Thesis/causal_bayes_opt/ceo_venv/lib/python3.10/site-packages/GPy/kern/src/stationary.py:168: RuntimeWarning:overflow encountered in divide\n",
      " /Users/jeandurand/Documents/Masters Thesis/causal_bayes_opt/ceo_venv/lib/python3.10/site-packages/GPy/kern/src/rbf.py:52: RuntimeWarning:overflow encountered in square\n",
      " /Users/jeandurand/Documents/Masters Thesis/causal_bayes_opt/ceo_venv/lib/python3.10/site-packages/GPy/kern/src/rbf.py:178: RuntimeWarning:invalid value encountered in multiply\n",
      "INFO:root:SAFE OPTIMZATION: Resetting kernel lenghtscale\n",
      "INFO:GP:initializing Y\n",
      "INFO:GP:initializing inference method\n",
      "INFO:GP:adding kernel and likelihood as parameters\n",
      "INFO:root:SAFE OPTIMZATION: Resetting kernel lenghtscale\n"
     ]
    },
    {
     "name": "stdout",
     "output_type": "stream",
     "text": [
      "{'aleatoric': 40.774641928203586, 'epistemic': 32.322142029077106}\n",
      "73.09678395728069\n"
     ]
    }
   ],
   "source": [
    "graph = Graph6Nodes()\n",
    "graph.mispecify_graph(all_graph_edges[5])\n",
    "graph.fit_samples_to_graph(D_O)\n",
    "uncertanties = graph.decompose_all_variance(D_O)\n",
    "\n",
    "print(uncertanties)\n",
    "print(uncertanties['epistemic'] + uncertanties['aleatoric'])"
   ]
  },
  {
   "cell_type": "markdown",
   "metadata": {},
   "source": [
    "# Trying to simulate the variance"
   ]
  },
  {
   "cell_type": "code",
   "execution_count": 5,
   "metadata": {},
   "outputs": [
    {
     "name": "stderr",
     "output_type": "stream",
     "text": [
      "INFO:root:Initializing the Toy Graph Structures\n"
     ]
    },
    {
     "name": "stdout",
     "output_type": "stream",
     "text": [
      "1.002437795118134\n",
      "5.859165516911554\n",
      "1.4975805311558867\n",
      "8.359183843185575\n"
     ]
    }
   ],
   "source": [
    "from graphs.data_setup import setup_observational_interventional\n",
    "import numpy as np\n",
    "D_O, D_I, exploration_set = setup_observational_interventional(\n",
    "                                graph_type=\"Toy\",\n",
    "                                seed=20,\n",
    "                                n_obs=100000,\n",
    "                                n_int=2,\n",
    "                            )\n",
    "print(np.var(D_O[\"X\"]))\n",
    "print(np.var(D_O[\"Z\"]))\n",
    "print(np.var(D_O[\"Y\"]))\n",
    "print(np.var(D_O[\"X\"]) + np.var(D_O[\"Z\"]) + np.var(D_O[\"Y\"]))\n",
    "\n"
   ]
  },
  {
   "cell_type": "code",
   "execution_count": 6,
   "metadata": {},
   "outputs": [
    {
     "name": "stderr",
     "output_type": "stream",
     "text": [
      "INFO:root:Initializing the Toy Graph Structures\n",
      "INFO:root:Initializing the Toy Graph Structures\n",
      "INFO:GP:initializing Y\n",
      "INFO:GP:initializing inference method\n",
      "INFO:GP:adding kernel and likelihood as parameters\n",
      "INFO:GP:initializing Y\n",
      "INFO:GP:initializing inference method\n",
      "INFO:GP:adding kernel and likelihood as parameters\n",
      "INFO:root:Getting the variables (mis and pomis) for the CBO algorithm\n",
      "INFO:root:Getting the variables (mis and pomis) for the CBO algorithm\n",
      "INFO:root:Getting the variables (mis and pomis) for the CBO algorithm\n"
     ]
    },
    {
     "data": {
      "text/plain": [
       "{'aleatoric': 0, 'epistemic': 3.177009613845504}"
      ]
     },
     "execution_count": 6,
     "metadata": {},
     "output_type": "execute_result"
    }
   ],
   "source": [
    "from graphs.toy_graph import ToyGraph\n",
    "D_O, D_I, exploration_set = setup_observational_interventional(\n",
    "                                graph_type=\"Toy\",\n",
    "                                seed=20,\n",
    "                                n_obs=100,\n",
    "                                n_int=2,\n",
    "                            )\n",
    "\n",
    "all_graph_edges = [\n",
    "    [(\"X\", \"Z\"), (\"Z\", \"Y\")],\n",
    "    [(\"X\", \"Z\"), (\"X\", \"Y\")],\n",
    "    [(\"X\", \"Z\"), (\"Z\", \"Y\"), (\"X\", \"Y\")],\n",
    "    [(\"Z\", \"X\"), (\"Z\", \"Y\")],\n",
    "    [(\"X\", \"Y\"), (\"Z\", \"Y\")],\n",
    "    [(\"Z\", \"X\"), (\"X\", \"Y\"), (\"Z\", \"Y\")],\n",
    "    [(\"Z\", \"X\"), (\"X\", \"Y\")],\n",
    "]\n",
    "\n",
    "toy_graph = ToyGraph()\n",
    "toy_graph.mispecify_graph(all_graph_edges[0])\n",
    "toy_graph.fit_samples_to_graph(D_O)\n",
    "toy_graph.decompose_all_variance(D_O)\n"
   ]
  },
  {
   "cell_type": "code",
   "execution_count": 7,
   "metadata": {},
   "outputs": [
    {
     "name": "stderr",
     "output_type": "stream",
     "text": [
      "INFO:root:Initializing the Toy Graph Structures\n",
      "INFO:GP:initializing Y\n",
      "INFO:GP:initializing inference method\n",
      "INFO:GP:adding kernel and likelihood as parameters\n",
      "INFO:GP:initializing Y\n",
      "INFO:GP:initializing inference method\n",
      "INFO:GP:adding kernel and likelihood as parameters\n",
      "INFO:root:Getting the variables (mis and pomis) for the CBO algorithm\n",
      "INFO:root:Getting the variables (mis and pomis) for the CBO algorithm\n",
      "INFO:root:Getting the variables (mis and pomis) for the CBO algorithm\n"
     ]
    },
    {
     "data": {
      "text/plain": [
       "{'aleatoric': 0, 'epistemic': 3.186299014565437}"
      ]
     },
     "execution_count": 7,
     "metadata": {},
     "output_type": "execute_result"
    }
   ],
   "source": [
    "toy_graph = ToyGraph()\n",
    "toy_graph.mispecify_graph(all_graph_edges[1])\n",
    "toy_graph.fit_samples_to_graph(D_O)\n",
    "toy_graph.decompose_all_variance(D_O)"
   ]
  },
  {
   "cell_type": "code",
   "execution_count": 8,
   "metadata": {},
   "outputs": [
    {
     "name": "stderr",
     "output_type": "stream",
     "text": [
      "INFO:root:Initializing the Toy Graph Structures\n",
      "INFO:GP:initializing Y\n",
      "INFO:GP:initializing inference method\n",
      "INFO:GP:adding kernel and likelihood as parameters\n",
      "INFO:GP:initializing Y\n",
      "INFO:GP:initializing inference method\n",
      "INFO:GP:adding kernel and likelihood as parameters\n",
      "INFO:root:Getting the variables (mis and pomis) for the CBO algorithm\n",
      "INFO:root:Getting the variables (mis and pomis) for the CBO algorithm\n",
      "INFO:root:Getting the variables (mis and pomis) for the CBO algorithm\n"
     ]
    },
    {
     "data": {
      "text/plain": [
       "{'aleatoric': 0, 'epistemic': 5.603400366637623}"
      ]
     },
     "execution_count": 8,
     "metadata": {},
     "output_type": "execute_result"
    }
   ],
   "source": [
    "toy_graph = ToyGraph()\n",
    "toy_graph.mispecify_graph(all_graph_edges[2])\n",
    "toy_graph.fit_samples_to_graph(D_O)\n",
    "toy_graph.decompose_all_variance(D_O)"
   ]
  },
  {
   "cell_type": "code",
   "execution_count": 9,
   "metadata": {},
   "outputs": [
    {
     "name": "stderr",
     "output_type": "stream",
     "text": [
      "INFO:root:Initializing the Toy Graph Structures\n",
      "INFO:GP:initializing Y\n",
      "INFO:GP:initializing inference method\n",
      "INFO:GP:adding kernel and likelihood as parameters\n",
      "INFO:GP:initializing Y\n",
      "INFO:GP:initializing inference method\n",
      "INFO:GP:adding kernel and likelihood as parameters\n",
      "INFO:root:Getting the variables (mis and pomis) for the CBO algorithm\n",
      "INFO:root:Getting the variables (mis and pomis) for the CBO algorithm\n",
      "INFO:root:Getting the variables (mis and pomis) for the CBO algorithm\n"
     ]
    },
    {
     "data": {
      "text/plain": [
       "{'aleatoric': 0, 'epistemic': 2.5258039900094804}"
      ]
     },
     "execution_count": 9,
     "metadata": {},
     "output_type": "execute_result"
    }
   ],
   "source": [
    "toy_graph = ToyGraph()\n",
    "toy_graph.mispecify_graph(all_graph_edges[3])\n",
    "toy_graph.fit_samples_to_graph(D_O)\n",
    "toy_graph.decompose_all_variance(D_O)"
   ]
  },
  {
   "cell_type": "code",
   "execution_count": 10,
   "metadata": {},
   "outputs": [
    {
     "name": "stderr",
     "output_type": "stream",
     "text": [
      "INFO:root:Initializing the Toy Graph Structures\n",
      "INFO:GP:initializing Y\n",
      "INFO:GP:initializing inference method\n",
      "INFO:GP:adding kernel and likelihood as parameters\n",
      "INFO:root:Getting the variables (mis and pomis) for the CBO algorithm\n",
      "INFO:root:Getting the variables (mis and pomis) for the CBO algorithm\n",
      "INFO:root:Getting the variables (mis and pomis) for the CBO algorithm\n"
     ]
    },
    {
     "data": {
      "text/plain": [
       "{'aleatoric': 0, 'epistemic': 3.9044085295002455}"
      ]
     },
     "execution_count": 10,
     "metadata": {},
     "output_type": "execute_result"
    }
   ],
   "source": [
    "toy_graph = ToyGraph()\n",
    "toy_graph.mispecify_graph(all_graph_edges[4])\n",
    "toy_graph.fit_samples_to_graph(D_O)\n",
    "toy_graph.decompose_all_variance(D_O)"
   ]
  },
  {
   "cell_type": "code",
   "execution_count": 11,
   "metadata": {},
   "outputs": [
    {
     "name": "stderr",
     "output_type": "stream",
     "text": [
      "INFO:root:Initializing the Toy Graph Structures\n",
      "INFO:GP:initializing Y\n",
      "INFO:GP:initializing inference method\n",
      "INFO:GP:adding kernel and likelihood as parameters\n",
      "INFO:GP:initializing Y\n",
      "INFO:GP:initializing inference method\n",
      "INFO:GP:adding kernel and likelihood as parameters\n",
      "INFO:root:Getting the variables (mis and pomis) for the CBO algorithm\n",
      "INFO:root:Getting the variables (mis and pomis) for the CBO algorithm\n",
      "INFO:root:Getting the variables (mis and pomis) for the CBO algorithm\n"
     ]
    },
    {
     "data": {
      "text/plain": [
       "{'aleatoric': 0, 'epistemic': 4.471741364061879}"
      ]
     },
     "execution_count": 11,
     "metadata": {},
     "output_type": "execute_result"
    }
   ],
   "source": [
    "toy_graph = ToyGraph()\n",
    "toy_graph.mispecify_graph(all_graph_edges[5])\n",
    "toy_graph.fit_samples_to_graph(D_O)\n",
    "toy_graph.decompose_all_variance(D_O)"
   ]
  },
  {
   "cell_type": "code",
   "execution_count": 12,
   "metadata": {},
   "outputs": [
    {
     "name": "stderr",
     "output_type": "stream",
     "text": [
      "INFO:root:Initializing the Toy Graph Structures\n",
      "INFO:GP:initializing Y\n",
      "INFO:GP:initializing inference method\n",
      "INFO:GP:adding kernel and likelihood as parameters\n",
      "INFO:GP:initializing Y\n",
      "INFO:GP:initializing inference method\n",
      "INFO:GP:adding kernel and likelihood as parameters\n",
      "INFO:root:Getting the variables (mis and pomis) for the CBO algorithm\n",
      "INFO:root:Getting the variables (mis and pomis) for the CBO algorithm\n",
      "INFO:root:Getting the variables (mis and pomis) for the CBO algorithm\n"
     ]
    },
    {
     "data": {
      "text/plain": [
       "{'aleatoric': 0, 'epistemic': 2.535093390729413}"
      ]
     },
     "execution_count": 12,
     "metadata": {},
     "output_type": "execute_result"
    }
   ],
   "source": [
    "toy_graph = ToyGraph()\n",
    "toy_graph.mispecify_graph(all_graph_edges[6])\n",
    "toy_graph.fit_samples_to_graph(D_O)\n",
    "toy_graph.decompose_all_variance(D_O)"
   ]
  },
  {
   "cell_type": "markdown",
   "metadata": {},
   "source": [
    "# Estimating the total variance in a similar way"
   ]
  },
  {
   "cell_type": "code",
   "execution_count": 1,
   "metadata": {},
   "outputs": [
    {
     "name": "stderr",
     "output_type": "stream",
     "text": [
      "INFO:numexpr.utils:Note: NumExpr detected 10 cores but \"NUMEXPR_MAX_THREADS\" not set, so enforcing safe limit of 8.\n",
      "INFO:numexpr.utils:NumExpr defaulting to 8 threads.\n",
      " /Users/jeandurand/Documents/Masters Thesis/causal_bayes_opt/ceo_venv/lib/python3.10/site-packages/tqdm/auto.py:21: TqdmWarning:IProgress not found. Please update jupyter and ipywidgets. See https://ipywidgets.readthedocs.io/en/stable/user_install.html\n",
      "INFO:root:Initializing the Toy Graph Structures\n"
     ]
    }
   ],
   "source": [
    "from utils.sem_sampling import sample_model\n",
    "from graphs.data_setup import setup_observational_interventional\n",
    "from graphs.toy_graph import ToyGraph\n",
    "import numpy as np\n",
    "D_O, D_I, exploration_set = setup_observational_interventional(\n",
    "                                graph_type=\"Toy\",\n",
    "                                seed=20,\n",
    "                                n_obs=100,\n",
    "                                n_int=2,\n",
    "                            )"
   ]
  },
  {
   "cell_type": "code",
   "execution_count": 35,
   "metadata": {},
   "outputs": [
    {
     "ename": "NameError",
     "evalue": "name 'sample_model' is not defined",
     "output_type": "error",
     "traceback": [
      "\u001b[0;31m---------------------------------------------------------------------------\u001b[0m",
      "\u001b[0;31mNameError\u001b[0m                                 Traceback (most recent call last)",
      "Cell \u001b[0;32mIn[35], line 16\u001b[0m\n\u001b[1;32m     14\u001b[0m \u001b[38;5;28;01mfor\u001b[39;00m j, val \u001b[38;5;129;01min\u001b[39;00m \u001b[38;5;28menumerate\u001b[39m(vals):\n\u001b[1;32m     15\u001b[0m     intervention \u001b[38;5;241m=\u001b[39m {var: val}\n\u001b[0;32m---> 16\u001b[0m     samples \u001b[38;5;241m=\u001b[39m \u001b[43msample_model\u001b[49m(toy_graph\u001b[38;5;241m.\u001b[39mSEM, graph\u001b[38;5;241m=\u001b[39mtoy_graph, interventions\u001b[38;5;241m=\u001b[39mintervention, sample_count\u001b[38;5;241m=\u001b[39m\u001b[38;5;241m100\u001b[39m)\n\u001b[1;32m     17\u001b[0m     variance[j] \u001b[38;5;241m=\u001b[39m np\u001b[38;5;241m.\u001b[39mvar(samples[current_var])\n\u001b[1;32m     18\u001b[0m \u001b[38;5;28;01mif\u001b[39;00m var \u001b[38;5;129;01min\u001b[39;00m manipulative_variables:\n",
      "\u001b[0;31mNameError\u001b[0m: name 'sample_model' is not defined"
     ]
    }
   ],
   "source": [
    "toy_graph = Graph6Nodes()\n",
    "_, _, manipulative_variables = toy_graph.get_sets()\n",
    "variables = toy_graph.variables\n",
    "epistemic_uncertainty = 0\n",
    "aleatoric_uncertainty = 0\n",
    "for current_var in variables:\n",
    "    parents = toy_graph.parents[current_var]\n",
    "    if parents:\n",
    "        for i, var in enumerate(parents):\n",
    "            min_var = np.min(D_O[var])\n",
    "            max_var = np.max(D_O[var])\n",
    "            vals = np.linspace(start=min_var, stop=max_var, num=100)\n",
    "            variance = np.zeros(shape=100)\n",
    "            for j, val in enumerate(vals):\n",
    "                intervention = {var: val}\n",
    "                samples = sample_model(toy_graph.SEM, graph=toy_graph, interventions=intervention, sample_count=100)\n",
    "                variance[j] = np.var(samples[current_var])\n",
    "            if var in manipulative_variables:\n",
    "                epistemic_uncertainty += np.mean(variance)\n",
    "            else:\n",
    "                aleatoric_uncertainty += np.mean(variance)\n",
    "\n",
    "print(epistemic_uncertainty, aleatoric_uncertainty)"
   ]
  },
  {
   "cell_type": "code",
   "execution_count": null,
   "metadata": {},
   "outputs": [],
   "source": []
  },
  {
   "cell_type": "code",
   "execution_count": null,
   "metadata": {},
   "outputs": [],
   "source": []
  }
 ],
 "metadata": {
  "kernelspec": {
   "display_name": "ceo_venv",
   "language": "python",
   "name": "python3"
  },
  "language_info": {
   "codemirror_mode": {
    "name": "ipython",
    "version": 3
   },
   "file_extension": ".py",
   "mimetype": "text/x-python",
   "name": "python",
   "nbconvert_exporter": "python",
   "pygments_lexer": "ipython3",
   "version": "3.10.13"
  }
 },
 "nbformat": 4,
 "nbformat_minor": 2
}
